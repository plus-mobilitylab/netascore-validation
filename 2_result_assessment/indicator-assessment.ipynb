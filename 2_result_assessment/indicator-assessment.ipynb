{
 "cells": [
  {
   "cell_type": "code",
   "execution_count": 1,
   "metadata": {},
   "outputs": [
    {
     "data": {
      "text/plain": [
       "bicycle_infrastructure    0.2\n",
       "designated_route          0.1\n",
       "road_category             0.3\n",
       "max_speed                 0.1\n",
       "car_parking               0.1\n",
       "pavement                  0.1\n",
       "gradient                  0.1\n",
       "dtype: float64"
      ]
     },
     "metadata": {},
     "output_type": "display_data"
    },
    {
     "data": {
      "text/html": [
       "<div>\n",
       "<style scoped>\n",
       "    .dataframe tbody tr th:only-of-type {\n",
       "        vertical-align: middle;\n",
       "    }\n",
       "\n",
       "    .dataframe tbody tr th {\n",
       "        vertical-align: top;\n",
       "    }\n",
       "\n",
       "    .dataframe thead th {\n",
       "        text-align: right;\n",
       "    }\n",
       "</style>\n",
       "<table border=\"1\" class=\"dataframe\">\n",
       "  <thead>\n",
       "    <tr style=\"text-align: right;\">\n",
       "      <th></th>\n",
       "      <th>bicycle_infrastructure</th>\n",
       "      <th>designated_route</th>\n",
       "      <th>road_category</th>\n",
       "      <th>max_speed</th>\n",
       "      <th>car_parking</th>\n",
       "      <th>pavement</th>\n",
       "      <th>gradient</th>\n",
       "      <th>traffic_lights_or_stops</th>\n",
       "      <th>natural_environment</th>\n",
       "      <th>car_traffic_volume</th>\n",
       "      <th>width_cycle_together</th>\n",
       "      <th>lighting</th>\n",
       "      <th>safe_parking_night</th>\n",
       "      <th>curve_x</th>\n",
       "      <th>short_cuts</th>\n",
       "      <th>tram_tracks</th>\n",
       "      <th>priority_at_intersections</th>\n",
       "      <th>urban_environment</th>\n",
       "      <th>accidents_near_misses</th>\n",
       "      <th>social_encounters</th>\n",
       "    </tr>\n",
       "  </thead>\n",
       "  <tbody>\n",
       "    <tr>\n",
       "      <th>0</th>\n",
       "      <td>0.70</td>\n",
       "      <td>0.04</td>\n",
       "      <td>0.02</td>\n",
       "      <td>0.62</td>\n",
       "      <td>0.01</td>\n",
       "      <td>0.24</td>\n",
       "      <td>0.22</td>\n",
       "      <td>0.20</td>\n",
       "      <td>0.28</td>\n",
       "      <td>0.68</td>\n",
       "      <td>0.03</td>\n",
       "      <td>0.29</td>\n",
       "      <td>0.85</td>\n",
       "      <td>0.85</td>\n",
       "      <td>0.50</td>\n",
       "      <td>0.13</td>\n",
       "      <td>0.77</td>\n",
       "      <td>0.59</td>\n",
       "      <td>0.84</td>\n",
       "      <td>NaN</td>\n",
       "    </tr>\n",
       "    <tr>\n",
       "      <th>1</th>\n",
       "      <td>0.70</td>\n",
       "      <td>0.09</td>\n",
       "      <td>0.03</td>\n",
       "      <td>0.64</td>\n",
       "      <td>0.18</td>\n",
       "      <td>0.28</td>\n",
       "      <td>0.33</td>\n",
       "      <td>0.49</td>\n",
       "      <td>0.44</td>\n",
       "      <td>0.68</td>\n",
       "      <td>0.43</td>\n",
       "      <td>0.53</td>\n",
       "      <td>0.87</td>\n",
       "      <td>1.00</td>\n",
       "      <td>0.55</td>\n",
       "      <td>0.29</td>\n",
       "      <td>0.80</td>\n",
       "      <td>NaN</td>\n",
       "      <td>0.95</td>\n",
       "      <td>NaN</td>\n",
       "    </tr>\n",
       "    <tr>\n",
       "      <th>2</th>\n",
       "      <td>0.72</td>\n",
       "      <td>0.15</td>\n",
       "      <td>0.10</td>\n",
       "      <td>0.68</td>\n",
       "      <td>0.32</td>\n",
       "      <td>0.31</td>\n",
       "      <td>0.50</td>\n",
       "      <td>0.52</td>\n",
       "      <td>0.45</td>\n",
       "      <td>0.75</td>\n",
       "      <td>0.52</td>\n",
       "      <td>0.54</td>\n",
       "      <td>0.90</td>\n",
       "      <td>NaN</td>\n",
       "      <td>0.91</td>\n",
       "      <td>0.46</td>\n",
       "      <td>0.80</td>\n",
       "      <td>NaN</td>\n",
       "      <td>NaN</td>\n",
       "      <td>NaN</td>\n",
       "    </tr>\n",
       "    <tr>\n",
       "      <th>3</th>\n",
       "      <td>0.73</td>\n",
       "      <td>0.21</td>\n",
       "      <td>0.13</td>\n",
       "      <td>0.75</td>\n",
       "      <td>0.34</td>\n",
       "      <td>0.34</td>\n",
       "      <td>0.50</td>\n",
       "      <td>0.60</td>\n",
       "      <td>0.50</td>\n",
       "      <td>0.76</td>\n",
       "      <td>0.54</td>\n",
       "      <td>0.57</td>\n",
       "      <td>0.93</td>\n",
       "      <td>NaN</td>\n",
       "      <td>0.99</td>\n",
       "      <td>0.51</td>\n",
       "      <td>NaN</td>\n",
       "      <td>NaN</td>\n",
       "      <td>NaN</td>\n",
       "      <td>NaN</td>\n",
       "    </tr>\n",
       "    <tr>\n",
       "      <th>4</th>\n",
       "      <td>0.76</td>\n",
       "      <td>0.23</td>\n",
       "      <td>0.14</td>\n",
       "      <td>0.76</td>\n",
       "      <td>0.43</td>\n",
       "      <td>0.39</td>\n",
       "      <td>0.51</td>\n",
       "      <td>0.78</td>\n",
       "      <td>0.51</td>\n",
       "      <td>0.85</td>\n",
       "      <td>0.58</td>\n",
       "      <td>0.60</td>\n",
       "      <td>0.93</td>\n",
       "      <td>NaN</td>\n",
       "      <td>0.99</td>\n",
       "      <td>0.75</td>\n",
       "      <td>NaN</td>\n",
       "      <td>NaN</td>\n",
       "      <td>NaN</td>\n",
       "      <td>NaN</td>\n",
       "    </tr>\n",
       "    <tr>\n",
       "      <th>5</th>\n",
       "      <td>0.76</td>\n",
       "      <td>0.27</td>\n",
       "      <td>0.23</td>\n",
       "      <td>0.76</td>\n",
       "      <td>0.45</td>\n",
       "      <td>0.41</td>\n",
       "      <td>0.57</td>\n",
       "      <td>0.82</td>\n",
       "      <td>0.53</td>\n",
       "      <td>0.85</td>\n",
       "      <td>0.60</td>\n",
       "      <td>0.67</td>\n",
       "      <td>1.00</td>\n",
       "      <td>NaN</td>\n",
       "      <td>1.00</td>\n",
       "      <td>0.76</td>\n",
       "      <td>NaN</td>\n",
       "      <td>NaN</td>\n",
       "      <td>NaN</td>\n",
       "      <td>NaN</td>\n",
       "    </tr>\n",
       "    <tr>\n",
       "      <th>6</th>\n",
       "      <td>0.79</td>\n",
       "      <td>0.37</td>\n",
       "      <td>0.27</td>\n",
       "      <td>0.79</td>\n",
       "      <td>0.50</td>\n",
       "      <td>0.57</td>\n",
       "      <td>0.59</td>\n",
       "      <td>0.83</td>\n",
       "      <td>0.61</td>\n",
       "      <td>0.86</td>\n",
       "      <td>0.62</td>\n",
       "      <td>0.69</td>\n",
       "      <td>1.00</td>\n",
       "      <td>NaN</td>\n",
       "      <td>1.00</td>\n",
       "      <td>0.81</td>\n",
       "      <td>NaN</td>\n",
       "      <td>NaN</td>\n",
       "      <td>NaN</td>\n",
       "      <td>NaN</td>\n",
       "    </tr>\n",
       "    <tr>\n",
       "      <th>7</th>\n",
       "      <td>0.85</td>\n",
       "      <td>0.50</td>\n",
       "      <td>0.47</td>\n",
       "      <td>0.80</td>\n",
       "      <td>0.56</td>\n",
       "      <td>0.60</td>\n",
       "      <td>0.62</td>\n",
       "      <td>0.85</td>\n",
       "      <td>0.61</td>\n",
       "      <td>0.87</td>\n",
       "      <td>0.67</td>\n",
       "      <td>0.71</td>\n",
       "      <td>NaN</td>\n",
       "      <td>NaN</td>\n",
       "      <td>NaN</td>\n",
       "      <td>0.94</td>\n",
       "      <td>NaN</td>\n",
       "      <td>NaN</td>\n",
       "      <td>NaN</td>\n",
       "      <td>NaN</td>\n",
       "    </tr>\n",
       "    <tr>\n",
       "      <th>8</th>\n",
       "      <td>0.86</td>\n",
       "      <td>0.50</td>\n",
       "      <td>0.48</td>\n",
       "      <td>0.82</td>\n",
       "      <td>0.60</td>\n",
       "      <td>0.65</td>\n",
       "      <td>0.66</td>\n",
       "      <td>0.92</td>\n",
       "      <td>0.61</td>\n",
       "      <td>0.87</td>\n",
       "      <td>0.68</td>\n",
       "      <td>0.71</td>\n",
       "      <td>NaN</td>\n",
       "      <td>NaN</td>\n",
       "      <td>NaN</td>\n",
       "      <td>NaN</td>\n",
       "      <td>NaN</td>\n",
       "      <td>NaN</td>\n",
       "      <td>NaN</td>\n",
       "      <td>NaN</td>\n",
       "    </tr>\n",
       "    <tr>\n",
       "      <th>9</th>\n",
       "      <td>0.91</td>\n",
       "      <td>0.51</td>\n",
       "      <td>0.58</td>\n",
       "      <td>0.82</td>\n",
       "      <td>0.68</td>\n",
       "      <td>0.75</td>\n",
       "      <td>0.69</td>\n",
       "      <td>NaN</td>\n",
       "      <td>0.66</td>\n",
       "      <td>0.93</td>\n",
       "      <td>0.68</td>\n",
       "      <td>0.72</td>\n",
       "      <td>NaN</td>\n",
       "      <td>NaN</td>\n",
       "      <td>NaN</td>\n",
       "      <td>NaN</td>\n",
       "      <td>NaN</td>\n",
       "      <td>NaN</td>\n",
       "      <td>NaN</td>\n",
       "      <td>NaN</td>\n",
       "    </tr>\n",
       "    <tr>\n",
       "      <th>10</th>\n",
       "      <td>0.92</td>\n",
       "      <td>0.59</td>\n",
       "      <td>0.65</td>\n",
       "      <td>0.85</td>\n",
       "      <td>0.68</td>\n",
       "      <td>0.75</td>\n",
       "      <td>0.73</td>\n",
       "      <td>NaN</td>\n",
       "      <td>0.78</td>\n",
       "      <td>0.97</td>\n",
       "      <td>0.84</td>\n",
       "      <td>0.73</td>\n",
       "      <td>NaN</td>\n",
       "      <td>NaN</td>\n",
       "      <td>NaN</td>\n",
       "      <td>NaN</td>\n",
       "      <td>NaN</td>\n",
       "      <td>NaN</td>\n",
       "      <td>NaN</td>\n",
       "      <td>NaN</td>\n",
       "    </tr>\n",
       "    <tr>\n",
       "      <th>11</th>\n",
       "      <td>0.92</td>\n",
       "      <td>0.60</td>\n",
       "      <td>0.85</td>\n",
       "      <td>0.87</td>\n",
       "      <td>0.93</td>\n",
       "      <td>0.78</td>\n",
       "      <td>0.73</td>\n",
       "      <td>NaN</td>\n",
       "      <td>0.79</td>\n",
       "      <td>0.98</td>\n",
       "      <td>0.87</td>\n",
       "      <td>0.75</td>\n",
       "      <td>NaN</td>\n",
       "      <td>NaN</td>\n",
       "      <td>NaN</td>\n",
       "      <td>NaN</td>\n",
       "      <td>NaN</td>\n",
       "      <td>NaN</td>\n",
       "      <td>NaN</td>\n",
       "      <td>NaN</td>\n",
       "    </tr>\n",
       "    <tr>\n",
       "      <th>12</th>\n",
       "      <td>0.93</td>\n",
       "      <td>0.67</td>\n",
       "      <td>0.98</td>\n",
       "      <td>0.90</td>\n",
       "      <td>NaN</td>\n",
       "      <td>0.79</td>\n",
       "      <td>0.74</td>\n",
       "      <td>NaN</td>\n",
       "      <td>0.88</td>\n",
       "      <td>0.98</td>\n",
       "      <td>0.91</td>\n",
       "      <td>0.79</td>\n",
       "      <td>NaN</td>\n",
       "      <td>NaN</td>\n",
       "      <td>NaN</td>\n",
       "      <td>NaN</td>\n",
       "      <td>NaN</td>\n",
       "      <td>NaN</td>\n",
       "      <td>NaN</td>\n",
       "      <td>NaN</td>\n",
       "    </tr>\n",
       "    <tr>\n",
       "      <th>13</th>\n",
       "      <td>0.95</td>\n",
       "      <td>0.84</td>\n",
       "      <td>NaN</td>\n",
       "      <td>0.96</td>\n",
       "      <td>NaN</td>\n",
       "      <td>0.83</td>\n",
       "      <td>0.78</td>\n",
       "      <td>NaN</td>\n",
       "      <td>0.92</td>\n",
       "      <td>0.98</td>\n",
       "      <td>0.91</td>\n",
       "      <td>0.83</td>\n",
       "      <td>NaN</td>\n",
       "      <td>NaN</td>\n",
       "      <td>NaN</td>\n",
       "      <td>NaN</td>\n",
       "      <td>NaN</td>\n",
       "      <td>NaN</td>\n",
       "      <td>NaN</td>\n",
       "      <td>NaN</td>\n",
       "    </tr>\n",
       "    <tr>\n",
       "      <th>14</th>\n",
       "      <td>0.96</td>\n",
       "      <td>0.87</td>\n",
       "      <td>NaN</td>\n",
       "      <td>1.00</td>\n",
       "      <td>NaN</td>\n",
       "      <td>0.83</td>\n",
       "      <td>0.84</td>\n",
       "      <td>NaN</td>\n",
       "      <td>0.95</td>\n",
       "      <td>0.98</td>\n",
       "      <td>0.93</td>\n",
       "      <td>0.84</td>\n",
       "      <td>NaN</td>\n",
       "      <td>NaN</td>\n",
       "      <td>NaN</td>\n",
       "      <td>NaN</td>\n",
       "      <td>NaN</td>\n",
       "      <td>NaN</td>\n",
       "      <td>NaN</td>\n",
       "      <td>NaN</td>\n",
       "    </tr>\n",
       "    <tr>\n",
       "      <th>15</th>\n",
       "      <td>0.97</td>\n",
       "      <td>0.88</td>\n",
       "      <td>NaN</td>\n",
       "      <td>NaN</td>\n",
       "      <td>NaN</td>\n",
       "      <td>0.83</td>\n",
       "      <td>0.87</td>\n",
       "      <td>NaN</td>\n",
       "      <td>0.96</td>\n",
       "      <td>1.00</td>\n",
       "      <td>0.95</td>\n",
       "      <td>0.89</td>\n",
       "      <td>NaN</td>\n",
       "      <td>NaN</td>\n",
       "      <td>NaN</td>\n",
       "      <td>NaN</td>\n",
       "      <td>NaN</td>\n",
       "      <td>NaN</td>\n",
       "      <td>NaN</td>\n",
       "      <td>NaN</td>\n",
       "    </tr>\n",
       "    <tr>\n",
       "      <th>16</th>\n",
       "      <td>0.99</td>\n",
       "      <td>0.93</td>\n",
       "      <td>NaN</td>\n",
       "      <td>NaN</td>\n",
       "      <td>NaN</td>\n",
       "      <td>0.85</td>\n",
       "      <td>0.99</td>\n",
       "      <td>NaN</td>\n",
       "      <td>0.96</td>\n",
       "      <td>NaN</td>\n",
       "      <td>0.97</td>\n",
       "      <td>NaN</td>\n",
       "      <td>NaN</td>\n",
       "      <td>NaN</td>\n",
       "      <td>NaN</td>\n",
       "      <td>NaN</td>\n",
       "      <td>NaN</td>\n",
       "      <td>NaN</td>\n",
       "      <td>NaN</td>\n",
       "      <td>NaN</td>\n",
       "    </tr>\n",
       "    <tr>\n",
       "      <th>17</th>\n",
       "      <td>1.00</td>\n",
       "      <td>NaN</td>\n",
       "      <td>NaN</td>\n",
       "      <td>NaN</td>\n",
       "      <td>NaN</td>\n",
       "      <td>0.99</td>\n",
       "      <td>NaN</td>\n",
       "      <td>NaN</td>\n",
       "      <td>NaN</td>\n",
       "      <td>NaN</td>\n",
       "      <td>0.98</td>\n",
       "      <td>NaN</td>\n",
       "      <td>NaN</td>\n",
       "      <td>NaN</td>\n",
       "      <td>NaN</td>\n",
       "      <td>NaN</td>\n",
       "      <td>NaN</td>\n",
       "      <td>NaN</td>\n",
       "      <td>NaN</td>\n",
       "      <td>NaN</td>\n",
       "    </tr>\n",
       "  </tbody>\n",
       "</table>\n",
       "</div>"
      ],
      "text/plain": [
       "    bicycle_infrastructure  designated_route  road_category  max_speed  \\\n",
       "0                     0.70              0.04           0.02       0.62   \n",
       "1                     0.70              0.09           0.03       0.64   \n",
       "2                     0.72              0.15           0.10       0.68   \n",
       "3                     0.73              0.21           0.13       0.75   \n",
       "4                     0.76              0.23           0.14       0.76   \n",
       "5                     0.76              0.27           0.23       0.76   \n",
       "6                     0.79              0.37           0.27       0.79   \n",
       "7                     0.85              0.50           0.47       0.80   \n",
       "8                     0.86              0.50           0.48       0.82   \n",
       "9                     0.91              0.51           0.58       0.82   \n",
       "10                    0.92              0.59           0.65       0.85   \n",
       "11                    0.92              0.60           0.85       0.87   \n",
       "12                    0.93              0.67           0.98       0.90   \n",
       "13                    0.95              0.84            NaN       0.96   \n",
       "14                    0.96              0.87            NaN       1.00   \n",
       "15                    0.97              0.88            NaN        NaN   \n",
       "16                    0.99              0.93            NaN        NaN   \n",
       "17                    1.00               NaN            NaN        NaN   \n",
       "\n",
       "    car_parking  pavement  gradient  traffic_lights_or_stops  \\\n",
       "0          0.01      0.24      0.22                     0.20   \n",
       "1          0.18      0.28      0.33                     0.49   \n",
       "2          0.32      0.31      0.50                     0.52   \n",
       "3          0.34      0.34      0.50                     0.60   \n",
       "4          0.43      0.39      0.51                     0.78   \n",
       "5          0.45      0.41      0.57                     0.82   \n",
       "6          0.50      0.57      0.59                     0.83   \n",
       "7          0.56      0.60      0.62                     0.85   \n",
       "8          0.60      0.65      0.66                     0.92   \n",
       "9          0.68      0.75      0.69                      NaN   \n",
       "10         0.68      0.75      0.73                      NaN   \n",
       "11         0.93      0.78      0.73                      NaN   \n",
       "12          NaN      0.79      0.74                      NaN   \n",
       "13          NaN      0.83      0.78                      NaN   \n",
       "14          NaN      0.83      0.84                      NaN   \n",
       "15          NaN      0.83      0.87                      NaN   \n",
       "16          NaN      0.85      0.99                      NaN   \n",
       "17          NaN      0.99       NaN                      NaN   \n",
       "\n",
       "    natural_environment  car_traffic_volume  width_cycle_together  lighting  \\\n",
       "0                  0.28                0.68                  0.03      0.29   \n",
       "1                  0.44                0.68                  0.43      0.53   \n",
       "2                  0.45                0.75                  0.52      0.54   \n",
       "3                  0.50                0.76                  0.54      0.57   \n",
       "4                  0.51                0.85                  0.58      0.60   \n",
       "5                  0.53                0.85                  0.60      0.67   \n",
       "6                  0.61                0.86                  0.62      0.69   \n",
       "7                  0.61                0.87                  0.67      0.71   \n",
       "8                  0.61                0.87                  0.68      0.71   \n",
       "9                  0.66                0.93                  0.68      0.72   \n",
       "10                 0.78                0.97                  0.84      0.73   \n",
       "11                 0.79                0.98                  0.87      0.75   \n",
       "12                 0.88                0.98                  0.91      0.79   \n",
       "13                 0.92                0.98                  0.91      0.83   \n",
       "14                 0.95                0.98                  0.93      0.84   \n",
       "15                 0.96                1.00                  0.95      0.89   \n",
       "16                 0.96                 NaN                  0.97       NaN   \n",
       "17                  NaN                 NaN                  0.98       NaN   \n",
       "\n",
       "    safe_parking_night  curve_x  short_cuts  tram_tracks  \\\n",
       "0                 0.85     0.85        0.50         0.13   \n",
       "1                 0.87     1.00        0.55         0.29   \n",
       "2                 0.90      NaN        0.91         0.46   \n",
       "3                 0.93      NaN        0.99         0.51   \n",
       "4                 0.93      NaN        0.99         0.75   \n",
       "5                 1.00      NaN        1.00         0.76   \n",
       "6                 1.00      NaN        1.00         0.81   \n",
       "7                  NaN      NaN         NaN         0.94   \n",
       "8                  NaN      NaN         NaN          NaN   \n",
       "9                  NaN      NaN         NaN          NaN   \n",
       "10                 NaN      NaN         NaN          NaN   \n",
       "11                 NaN      NaN         NaN          NaN   \n",
       "12                 NaN      NaN         NaN          NaN   \n",
       "13                 NaN      NaN         NaN          NaN   \n",
       "14                 NaN      NaN         NaN          NaN   \n",
       "15                 NaN      NaN         NaN          NaN   \n",
       "16                 NaN      NaN         NaN          NaN   \n",
       "17                 NaN      NaN         NaN          NaN   \n",
       "\n",
       "    priority_at_intersections  urban_environment  accidents_near_misses  \\\n",
       "0                        0.77               0.59                   0.84   \n",
       "1                        0.80                NaN                   0.95   \n",
       "2                        0.80                NaN                    NaN   \n",
       "3                         NaN                NaN                    NaN   \n",
       "4                         NaN                NaN                    NaN   \n",
       "5                         NaN                NaN                    NaN   \n",
       "6                         NaN                NaN                    NaN   \n",
       "7                         NaN                NaN                    NaN   \n",
       "8                         NaN                NaN                    NaN   \n",
       "9                         NaN                NaN                    NaN   \n",
       "10                        NaN                NaN                    NaN   \n",
       "11                        NaN                NaN                    NaN   \n",
       "12                        NaN                NaN                    NaN   \n",
       "13                        NaN                NaN                    NaN   \n",
       "14                        NaN                NaN                    NaN   \n",
       "15                        NaN                NaN                    NaN   \n",
       "16                        NaN                NaN                    NaN   \n",
       "17                        NaN                NaN                    NaN   \n",
       "\n",
       "    social_encounters  \n",
       "0                 NaN  \n",
       "1                 NaN  \n",
       "2                 NaN  \n",
       "3                 NaN  \n",
       "4                 NaN  \n",
       "5                 NaN  \n",
       "6                 NaN  \n",
       "7                 NaN  \n",
       "8                 NaN  \n",
       "9                 NaN  \n",
       "10                NaN  \n",
       "11                NaN  \n",
       "12                NaN  \n",
       "13                NaN  \n",
       "14                NaN  \n",
       "15                NaN  \n",
       "16                NaN  \n",
       "17                NaN  "
      ]
     },
     "metadata": {},
     "output_type": "display_data"
    }
   ],
   "source": [
    "import pandas as pd\n",
    "import os\n",
    "\n",
    "pd.options.plotting.backend = \"plotly\"\n",
    "\n",
    "### SETTINGS ###\n",
    "dir = os.path.join(\"..\", \"..\", \"..\", \"4_results\")\n",
    "output_dir = \"output\"\n",
    "f_ind_workshop = \"4_indicators_workshop.csv\"\n",
    "\n",
    "export_html = False\n",
    "export_svg = False\n",
    "export_pdf = True\n",
    "export_png = True\n",
    "\n",
    "plot_title = False\n",
    "plot_yAxTitle = False\n",
    "\n",
    "# weights used in NetAScore (for reference)\n",
    "d_ind_netascore = dict(\n",
    "    bicycle_infrastructure = 0.2,\n",
    "    designated_route = 0.1,\n",
    "    road_category = 0.3,\n",
    "    max_speed = 0.1,\n",
    "    car_parking = 0.1,\n",
    "    pavement = 0.1,\n",
    "    gradient = 0.1\n",
    ")\n",
    "ind_netascore = pd.Series(d_ind_netascore)\n",
    "display(ind_netascore)\n",
    "ind_workshop = pd.read_csv(os.path.join(dir, f_ind_workshop), sep=\";\", decimal=\",\")\n",
    "display(ind_workshop)\n",
    "\n",
    "if not os.path.exists(output_dir):\n",
    "    os.makedirs(output_dir)"
   ]
  },
  {
   "cell_type": "code",
   "execution_count": 2,
   "metadata": {},
   "outputs": [
    {
     "data": {
      "text/plain": [
       "bicycle_infrastructure    0.666667\n",
       "designated_route          0.333333\n",
       "road_category             1.000000\n",
       "max_speed                 0.333333\n",
       "car_parking               0.333333\n",
       "pavement                  0.333333\n",
       "gradient                  0.333333\n",
       "dtype: float64"
      ]
     },
     "execution_count": 2,
     "metadata": {},
     "output_type": "execute_result"
    }
   ],
   "source": [
    "# re-scale NetAScore weights to range 0..1\n",
    "ind_netascore_norm = ind_netascore/max(ind_netascore)\n",
    "ind_netascore_norm"
   ]
  },
  {
   "cell_type": "code",
   "execution_count": 3,
   "metadata": {},
   "outputs": [
    {
     "data": {
      "text/html": [
       "<div>\n",
       "<style scoped>\n",
       "    .dataframe tbody tr th:only-of-type {\n",
       "        vertical-align: middle;\n",
       "    }\n",
       "\n",
       "    .dataframe tbody tr th {\n",
       "        vertical-align: top;\n",
       "    }\n",
       "\n",
       "    .dataframe thead th {\n",
       "        text-align: right;\n",
       "    }\n",
       "</style>\n",
       "<table border=\"1\" class=\"dataframe\">\n",
       "  <thead>\n",
       "    <tr style=\"text-align: right;\">\n",
       "      <th></th>\n",
       "      <th>bicycle_infrastructure</th>\n",
       "      <th>designated_route</th>\n",
       "      <th>road_category</th>\n",
       "      <th>max_speed</th>\n",
       "      <th>car_parking</th>\n",
       "      <th>pavement</th>\n",
       "      <th>gradient</th>\n",
       "    </tr>\n",
       "  </thead>\n",
       "  <tbody>\n",
       "    <tr>\n",
       "      <th>count</th>\n",
       "      <td>18.000000</td>\n",
       "      <td>17.000000</td>\n",
       "      <td>13.000000</td>\n",
       "      <td>15.000000</td>\n",
       "      <td>12.000000</td>\n",
       "      <td>18.000000</td>\n",
       "      <td>17.000000</td>\n",
       "    </tr>\n",
       "    <tr>\n",
       "      <th>mean</th>\n",
       "      <td>0.856667</td>\n",
       "      <td>0.485294</td>\n",
       "      <td>0.379231</td>\n",
       "      <td>0.801333</td>\n",
       "      <td>0.473333</td>\n",
       "      <td>0.621667</td>\n",
       "      <td>0.639412</td>\n",
       "    </tr>\n",
       "    <tr>\n",
       "      <th>std</th>\n",
       "      <td>0.106771</td>\n",
       "      <td>0.290928</td>\n",
       "      <td>0.315844</td>\n",
       "      <td>0.107562</td>\n",
       "      <td>0.245443</td>\n",
       "      <td>0.235853</td>\n",
       "      <td>0.193729</td>\n",
       "    </tr>\n",
       "    <tr>\n",
       "      <th>min</th>\n",
       "      <td>0.700000</td>\n",
       "      <td>0.040000</td>\n",
       "      <td>0.020000</td>\n",
       "      <td>0.620000</td>\n",
       "      <td>0.010000</td>\n",
       "      <td>0.240000</td>\n",
       "      <td>0.220000</td>\n",
       "    </tr>\n",
       "    <tr>\n",
       "      <th>25%</th>\n",
       "      <td>0.760000</td>\n",
       "      <td>0.230000</td>\n",
       "      <td>0.130000</td>\n",
       "      <td>0.755000</td>\n",
       "      <td>0.335000</td>\n",
       "      <td>0.395000</td>\n",
       "      <td>0.510000</td>\n",
       "    </tr>\n",
       "    <tr>\n",
       "      <th>50%</th>\n",
       "      <td>0.885000</td>\n",
       "      <td>0.500000</td>\n",
       "      <td>0.270000</td>\n",
       "      <td>0.800000</td>\n",
       "      <td>0.475000</td>\n",
       "      <td>0.700000</td>\n",
       "      <td>0.660000</td>\n",
       "    </tr>\n",
       "    <tr>\n",
       "      <th>75%</th>\n",
       "      <td>0.945000</td>\n",
       "      <td>0.670000</td>\n",
       "      <td>0.580000</td>\n",
       "      <td>0.860000</td>\n",
       "      <td>0.620000</td>\n",
       "      <td>0.820000</td>\n",
       "      <td>0.740000</td>\n",
       "    </tr>\n",
       "    <tr>\n",
       "      <th>max</th>\n",
       "      <td>1.000000</td>\n",
       "      <td>0.930000</td>\n",
       "      <td>0.980000</td>\n",
       "      <td>1.000000</td>\n",
       "      <td>0.930000</td>\n",
       "      <td>0.990000</td>\n",
       "      <td>0.990000</td>\n",
       "    </tr>\n",
       "  </tbody>\n",
       "</table>\n",
       "</div>"
      ],
      "text/plain": [
       "       bicycle_infrastructure  designated_route  road_category  max_speed  \\\n",
       "count               18.000000         17.000000      13.000000  15.000000   \n",
       "mean                 0.856667          0.485294       0.379231   0.801333   \n",
       "std                  0.106771          0.290928       0.315844   0.107562   \n",
       "min                  0.700000          0.040000       0.020000   0.620000   \n",
       "25%                  0.760000          0.230000       0.130000   0.755000   \n",
       "50%                  0.885000          0.500000       0.270000   0.800000   \n",
       "75%                  0.945000          0.670000       0.580000   0.860000   \n",
       "max                  1.000000          0.930000       0.980000   1.000000   \n",
       "\n",
       "       car_parking   pavement   gradient  \n",
       "count    12.000000  18.000000  17.000000  \n",
       "mean      0.473333   0.621667   0.639412  \n",
       "std       0.245443   0.235853   0.193729  \n",
       "min       0.010000   0.240000   0.220000  \n",
       "25%       0.335000   0.395000   0.510000  \n",
       "50%       0.475000   0.700000   0.660000  \n",
       "75%       0.620000   0.820000   0.740000  \n",
       "max       0.930000   0.990000   0.990000  "
      ]
     },
     "execution_count": 3,
     "metadata": {},
     "output_type": "execute_result"
    }
   ],
   "source": [
    "ind_workshop[ind_netascore.index].describe()"
   ]
  },
  {
   "cell_type": "code",
   "execution_count": 4,
   "metadata": {},
   "outputs": [
    {
     "data": {
      "application/vnd.plotly.v1+json": {
       "config": {
        "plotlyServerURL": "https://plot.ly"
       },
       "data": [
        {
         "alignmentgroup": "True",
         "boxpoints": "all",
         "hovertemplate": "variable=%{x}<br>value=%{y}<extra></extra>",
         "legendgroup": "",
         "line": {
          "width": 1
         },
         "marker": {
          "color": "#15459C",
          "size": 2
         },
         "name": "",
         "notched": false,
         "offsetgroup": "",
         "orientation": "v",
         "showlegend": false,
         "type": "box",
         "x": [
          "bicycle_infrastructure",
          "bicycle_infrastructure",
          "bicycle_infrastructure",
          "bicycle_infrastructure",
          "bicycle_infrastructure",
          "bicycle_infrastructure",
          "bicycle_infrastructure",
          "bicycle_infrastructure",
          "bicycle_infrastructure",
          "bicycle_infrastructure",
          "bicycle_infrastructure",
          "bicycle_infrastructure",
          "bicycle_infrastructure",
          "bicycle_infrastructure",
          "bicycle_infrastructure",
          "bicycle_infrastructure",
          "bicycle_infrastructure",
          "bicycle_infrastructure",
          "designated_route",
          "designated_route",
          "designated_route",
          "designated_route",
          "designated_route",
          "designated_route",
          "designated_route",
          "designated_route",
          "designated_route",
          "designated_route",
          "designated_route",
          "designated_route",
          "designated_route",
          "designated_route",
          "designated_route",
          "designated_route",
          "designated_route",
          "designated_route",
          "road_category",
          "road_category",
          "road_category",
          "road_category",
          "road_category",
          "road_category",
          "road_category",
          "road_category",
          "road_category",
          "road_category",
          "road_category",
          "road_category",
          "road_category",
          "road_category",
          "road_category",
          "road_category",
          "road_category",
          "road_category",
          "max_speed",
          "max_speed",
          "max_speed",
          "max_speed",
          "max_speed",
          "max_speed",
          "max_speed",
          "max_speed",
          "max_speed",
          "max_speed",
          "max_speed",
          "max_speed",
          "max_speed",
          "max_speed",
          "max_speed",
          "max_speed",
          "max_speed",
          "max_speed",
          "car_parking",
          "car_parking",
          "car_parking",
          "car_parking",
          "car_parking",
          "car_parking",
          "car_parking",
          "car_parking",
          "car_parking",
          "car_parking",
          "car_parking",
          "car_parking",
          "car_parking",
          "car_parking",
          "car_parking",
          "car_parking",
          "car_parking",
          "car_parking",
          "pavement",
          "pavement",
          "pavement",
          "pavement",
          "pavement",
          "pavement",
          "pavement",
          "pavement",
          "pavement",
          "pavement",
          "pavement",
          "pavement",
          "pavement",
          "pavement",
          "pavement",
          "pavement",
          "pavement",
          "pavement",
          "gradient",
          "gradient",
          "gradient",
          "gradient",
          "gradient",
          "gradient",
          "gradient",
          "gradient",
          "gradient",
          "gradient",
          "gradient",
          "gradient",
          "gradient",
          "gradient",
          "gradient",
          "gradient",
          "gradient",
          "gradient"
         ],
         "x0": " ",
         "xaxis": "x",
         "y": [
          0.7,
          0.7,
          0.72,
          0.73,
          0.76,
          0.76,
          0.79,
          0.85,
          0.86,
          0.91,
          0.92,
          0.92,
          0.93,
          0.95,
          0.96,
          0.97,
          0.99,
          1,
          0.04,
          0.09,
          0.15,
          0.21,
          0.23,
          0.27,
          0.37,
          0.5,
          0.5,
          0.51,
          0.59,
          0.6,
          0.67,
          0.84,
          0.87,
          0.88,
          0.93,
          null,
          0.02,
          0.03,
          0.1,
          0.13,
          0.14,
          0.23,
          0.27,
          0.47,
          0.48,
          0.58,
          0.65,
          0.85,
          0.98,
          null,
          null,
          null,
          null,
          null,
          0.62,
          0.64,
          0.68,
          0.75,
          0.76,
          0.76,
          0.79,
          0.8,
          0.82,
          0.82,
          0.85,
          0.87,
          0.9,
          0.96,
          1,
          null,
          null,
          null,
          0.01,
          0.18,
          0.32,
          0.34,
          0.43,
          0.45,
          0.5,
          0.56,
          0.6,
          0.68,
          0.68,
          0.93,
          null,
          null,
          null,
          null,
          null,
          null,
          0.24,
          0.28,
          0.31,
          0.34,
          0.39,
          0.41,
          0.57,
          0.6,
          0.65,
          0.75,
          0.75,
          0.78,
          0.79,
          0.83,
          0.83,
          0.83,
          0.85,
          0.99,
          0.22,
          0.33,
          0.5,
          0.5,
          0.51,
          0.57,
          0.59,
          0.62,
          0.66,
          0.69,
          0.73,
          0.73,
          0.74,
          0.78,
          0.84,
          0.87,
          0.99,
          null
         ],
         "y0": " ",
         "yaxis": "y"
        },
        {
         "line": {
          "color": "#EB0F09"
         },
         "marker": {
          "size": 50,
          "symbol": "line-ew-open"
         },
         "mode": "markers",
         "name": "bikeability",
         "showlegend": false,
         "type": "scatter",
         "x": [
          "bicycle_infrastructure",
          "designated_route",
          "road_category",
          "max_speed",
          "car_parking",
          "pavement",
          "gradient"
         ],
         "y": [
          0.6666666666666667,
          0.33333333333333337,
          1,
          0.33333333333333337,
          0.33333333333333337,
          0.33333333333333337,
          0.33333333333333337
         ]
        }
       ],
       "layout": {
        "boxmode": "group",
        "height": 500,
        "legend": {
         "tracegroupgap": 0
        },
        "margin": {
         "t": 60
        },
        "template": {
         "data": {
          "bar": [
           {
            "error_x": {
             "color": "#2a3f5f"
            },
            "error_y": {
             "color": "#2a3f5f"
            },
            "marker": {
             "line": {
              "color": "#E5ECF6",
              "width": 0.5
             },
             "pattern": {
              "fillmode": "overlay",
              "size": 10,
              "solidity": 0.2
             }
            },
            "type": "bar"
           }
          ],
          "barpolar": [
           {
            "marker": {
             "line": {
              "color": "#E5ECF6",
              "width": 0.5
             },
             "pattern": {
              "fillmode": "overlay",
              "size": 10,
              "solidity": 0.2
             }
            },
            "type": "barpolar"
           }
          ],
          "carpet": [
           {
            "aaxis": {
             "endlinecolor": "#2a3f5f",
             "gridcolor": "white",
             "linecolor": "white",
             "minorgridcolor": "white",
             "startlinecolor": "#2a3f5f"
            },
            "baxis": {
             "endlinecolor": "#2a3f5f",
             "gridcolor": "white",
             "linecolor": "white",
             "minorgridcolor": "white",
             "startlinecolor": "#2a3f5f"
            },
            "type": "carpet"
           }
          ],
          "choropleth": [
           {
            "colorbar": {
             "outlinewidth": 0,
             "ticks": ""
            },
            "type": "choropleth"
           }
          ],
          "contour": [
           {
            "colorbar": {
             "outlinewidth": 0,
             "ticks": ""
            },
            "colorscale": [
             [
              0,
              "#0d0887"
             ],
             [
              0.1111111111111111,
              "#46039f"
             ],
             [
              0.2222222222222222,
              "#7201a8"
             ],
             [
              0.3333333333333333,
              "#9c179e"
             ],
             [
              0.4444444444444444,
              "#bd3786"
             ],
             [
              0.5555555555555556,
              "#d8576b"
             ],
             [
              0.6666666666666666,
              "#ed7953"
             ],
             [
              0.7777777777777778,
              "#fb9f3a"
             ],
             [
              0.8888888888888888,
              "#fdca26"
             ],
             [
              1,
              "#f0f921"
             ]
            ],
            "type": "contour"
           }
          ],
          "contourcarpet": [
           {
            "colorbar": {
             "outlinewidth": 0,
             "ticks": ""
            },
            "type": "contourcarpet"
           }
          ],
          "heatmap": [
           {
            "colorbar": {
             "outlinewidth": 0,
             "ticks": ""
            },
            "colorscale": [
             [
              0,
              "#0d0887"
             ],
             [
              0.1111111111111111,
              "#46039f"
             ],
             [
              0.2222222222222222,
              "#7201a8"
             ],
             [
              0.3333333333333333,
              "#9c179e"
             ],
             [
              0.4444444444444444,
              "#bd3786"
             ],
             [
              0.5555555555555556,
              "#d8576b"
             ],
             [
              0.6666666666666666,
              "#ed7953"
             ],
             [
              0.7777777777777778,
              "#fb9f3a"
             ],
             [
              0.8888888888888888,
              "#fdca26"
             ],
             [
              1,
              "#f0f921"
             ]
            ],
            "type": "heatmap"
           }
          ],
          "heatmapgl": [
           {
            "colorbar": {
             "outlinewidth": 0,
             "ticks": ""
            },
            "colorscale": [
             [
              0,
              "#0d0887"
             ],
             [
              0.1111111111111111,
              "#46039f"
             ],
             [
              0.2222222222222222,
              "#7201a8"
             ],
             [
              0.3333333333333333,
              "#9c179e"
             ],
             [
              0.4444444444444444,
              "#bd3786"
             ],
             [
              0.5555555555555556,
              "#d8576b"
             ],
             [
              0.6666666666666666,
              "#ed7953"
             ],
             [
              0.7777777777777778,
              "#fb9f3a"
             ],
             [
              0.8888888888888888,
              "#fdca26"
             ],
             [
              1,
              "#f0f921"
             ]
            ],
            "type": "heatmapgl"
           }
          ],
          "histogram": [
           {
            "marker": {
             "pattern": {
              "fillmode": "overlay",
              "size": 10,
              "solidity": 0.2
             }
            },
            "type": "histogram"
           }
          ],
          "histogram2d": [
           {
            "colorbar": {
             "outlinewidth": 0,
             "ticks": ""
            },
            "colorscale": [
             [
              0,
              "#0d0887"
             ],
             [
              0.1111111111111111,
              "#46039f"
             ],
             [
              0.2222222222222222,
              "#7201a8"
             ],
             [
              0.3333333333333333,
              "#9c179e"
             ],
             [
              0.4444444444444444,
              "#bd3786"
             ],
             [
              0.5555555555555556,
              "#d8576b"
             ],
             [
              0.6666666666666666,
              "#ed7953"
             ],
             [
              0.7777777777777778,
              "#fb9f3a"
             ],
             [
              0.8888888888888888,
              "#fdca26"
             ],
             [
              1,
              "#f0f921"
             ]
            ],
            "type": "histogram2d"
           }
          ],
          "histogram2dcontour": [
           {
            "colorbar": {
             "outlinewidth": 0,
             "ticks": ""
            },
            "colorscale": [
             [
              0,
              "#0d0887"
             ],
             [
              0.1111111111111111,
              "#46039f"
             ],
             [
              0.2222222222222222,
              "#7201a8"
             ],
             [
              0.3333333333333333,
              "#9c179e"
             ],
             [
              0.4444444444444444,
              "#bd3786"
             ],
             [
              0.5555555555555556,
              "#d8576b"
             ],
             [
              0.6666666666666666,
              "#ed7953"
             ],
             [
              0.7777777777777778,
              "#fb9f3a"
             ],
             [
              0.8888888888888888,
              "#fdca26"
             ],
             [
              1,
              "#f0f921"
             ]
            ],
            "type": "histogram2dcontour"
           }
          ],
          "mesh3d": [
           {
            "colorbar": {
             "outlinewidth": 0,
             "ticks": ""
            },
            "type": "mesh3d"
           }
          ],
          "parcoords": [
           {
            "line": {
             "colorbar": {
              "outlinewidth": 0,
              "ticks": ""
             }
            },
            "type": "parcoords"
           }
          ],
          "pie": [
           {
            "automargin": true,
            "type": "pie"
           }
          ],
          "scatter": [
           {
            "fillpattern": {
             "fillmode": "overlay",
             "size": 10,
             "solidity": 0.2
            },
            "type": "scatter"
           }
          ],
          "scatter3d": [
           {
            "line": {
             "colorbar": {
              "outlinewidth": 0,
              "ticks": ""
             }
            },
            "marker": {
             "colorbar": {
              "outlinewidth": 0,
              "ticks": ""
             }
            },
            "type": "scatter3d"
           }
          ],
          "scattercarpet": [
           {
            "marker": {
             "colorbar": {
              "outlinewidth": 0,
              "ticks": ""
             }
            },
            "type": "scattercarpet"
           }
          ],
          "scattergeo": [
           {
            "marker": {
             "colorbar": {
              "outlinewidth": 0,
              "ticks": ""
             }
            },
            "type": "scattergeo"
           }
          ],
          "scattergl": [
           {
            "marker": {
             "colorbar": {
              "outlinewidth": 0,
              "ticks": ""
             }
            },
            "type": "scattergl"
           }
          ],
          "scattermapbox": [
           {
            "marker": {
             "colorbar": {
              "outlinewidth": 0,
              "ticks": ""
             }
            },
            "type": "scattermapbox"
           }
          ],
          "scatterpolar": [
           {
            "marker": {
             "colorbar": {
              "outlinewidth": 0,
              "ticks": ""
             }
            },
            "type": "scatterpolar"
           }
          ],
          "scatterpolargl": [
           {
            "marker": {
             "colorbar": {
              "outlinewidth": 0,
              "ticks": ""
             }
            },
            "type": "scatterpolargl"
           }
          ],
          "scatterternary": [
           {
            "marker": {
             "colorbar": {
              "outlinewidth": 0,
              "ticks": ""
             }
            },
            "type": "scatterternary"
           }
          ],
          "surface": [
           {
            "colorbar": {
             "outlinewidth": 0,
             "ticks": ""
            },
            "colorscale": [
             [
              0,
              "#0d0887"
             ],
             [
              0.1111111111111111,
              "#46039f"
             ],
             [
              0.2222222222222222,
              "#7201a8"
             ],
             [
              0.3333333333333333,
              "#9c179e"
             ],
             [
              0.4444444444444444,
              "#bd3786"
             ],
             [
              0.5555555555555556,
              "#d8576b"
             ],
             [
              0.6666666666666666,
              "#ed7953"
             ],
             [
              0.7777777777777778,
              "#fb9f3a"
             ],
             [
              0.8888888888888888,
              "#fdca26"
             ],
             [
              1,
              "#f0f921"
             ]
            ],
            "type": "surface"
           }
          ],
          "table": [
           {
            "cells": {
             "fill": {
              "color": "#EBF0F8"
             },
             "line": {
              "color": "white"
             }
            },
            "header": {
             "fill": {
              "color": "#C8D4E3"
             },
             "line": {
              "color": "white"
             }
            },
            "type": "table"
           }
          ]
         },
         "layout": {
          "annotationdefaults": {
           "arrowcolor": "#2a3f5f",
           "arrowhead": 0,
           "arrowwidth": 1
          },
          "autotypenumbers": "strict",
          "coloraxis": {
           "colorbar": {
            "outlinewidth": 0,
            "ticks": ""
           }
          },
          "colorscale": {
           "diverging": [
            [
             0,
             "#8e0152"
            ],
            [
             0.1,
             "#c51b7d"
            ],
            [
             0.2,
             "#de77ae"
            ],
            [
             0.3,
             "#f1b6da"
            ],
            [
             0.4,
             "#fde0ef"
            ],
            [
             0.5,
             "#f7f7f7"
            ],
            [
             0.6,
             "#e6f5d0"
            ],
            [
             0.7,
             "#b8e186"
            ],
            [
             0.8,
             "#7fbc41"
            ],
            [
             0.9,
             "#4d9221"
            ],
            [
             1,
             "#276419"
            ]
           ],
           "sequential": [
            [
             0,
             "#0d0887"
            ],
            [
             0.1111111111111111,
             "#46039f"
            ],
            [
             0.2222222222222222,
             "#7201a8"
            ],
            [
             0.3333333333333333,
             "#9c179e"
            ],
            [
             0.4444444444444444,
             "#bd3786"
            ],
            [
             0.5555555555555556,
             "#d8576b"
            ],
            [
             0.6666666666666666,
             "#ed7953"
            ],
            [
             0.7777777777777778,
             "#fb9f3a"
            ],
            [
             0.8888888888888888,
             "#fdca26"
            ],
            [
             1,
             "#f0f921"
            ]
           ],
           "sequentialminus": [
            [
             0,
             "#0d0887"
            ],
            [
             0.1111111111111111,
             "#46039f"
            ],
            [
             0.2222222222222222,
             "#7201a8"
            ],
            [
             0.3333333333333333,
             "#9c179e"
            ],
            [
             0.4444444444444444,
             "#bd3786"
            ],
            [
             0.5555555555555556,
             "#d8576b"
            ],
            [
             0.6666666666666666,
             "#ed7953"
            ],
            [
             0.7777777777777778,
             "#fb9f3a"
            ],
            [
             0.8888888888888888,
             "#fdca26"
            ],
            [
             1,
             "#f0f921"
            ]
           ]
          },
          "colorway": [
           "#636efa",
           "#EF553B",
           "#00cc96",
           "#ab63fa",
           "#FFA15A",
           "#19d3f3",
           "#FF6692",
           "#B6E880",
           "#FF97FF",
           "#FECB52"
          ],
          "font": {
           "color": "#2a3f5f"
          },
          "geo": {
           "bgcolor": "white",
           "lakecolor": "white",
           "landcolor": "#E5ECF6",
           "showlakes": true,
           "showland": true,
           "subunitcolor": "white"
          },
          "hoverlabel": {
           "align": "left"
          },
          "hovermode": "closest",
          "mapbox": {
           "style": "light"
          },
          "paper_bgcolor": "white",
          "plot_bgcolor": "#E5ECF6",
          "polar": {
           "angularaxis": {
            "gridcolor": "white",
            "linecolor": "white",
            "ticks": ""
           },
           "bgcolor": "#E5ECF6",
           "radialaxis": {
            "gridcolor": "white",
            "linecolor": "white",
            "ticks": ""
           }
          },
          "scene": {
           "xaxis": {
            "backgroundcolor": "#E5ECF6",
            "gridcolor": "white",
            "gridwidth": 2,
            "linecolor": "white",
            "showbackground": true,
            "ticks": "",
            "zerolinecolor": "white"
           },
           "yaxis": {
            "backgroundcolor": "#E5ECF6",
            "gridcolor": "white",
            "gridwidth": 2,
            "linecolor": "white",
            "showbackground": true,
            "ticks": "",
            "zerolinecolor": "white"
           },
           "zaxis": {
            "backgroundcolor": "#E5ECF6",
            "gridcolor": "white",
            "gridwidth": 2,
            "linecolor": "white",
            "showbackground": true,
            "ticks": "",
            "zerolinecolor": "white"
           }
          },
          "shapedefaults": {
           "line": {
            "color": "#2a3f5f"
           }
          },
          "ternary": {
           "aaxis": {
            "gridcolor": "white",
            "linecolor": "white",
            "ticks": ""
           },
           "baxis": {
            "gridcolor": "white",
            "linecolor": "white",
            "ticks": ""
           },
           "bgcolor": "#E5ECF6",
           "caxis": {
            "gridcolor": "white",
            "linecolor": "white",
            "ticks": ""
           }
          },
          "title": {
           "x": 0.05
          },
          "xaxis": {
           "automargin": true,
           "gridcolor": "white",
           "linecolor": "white",
           "ticks": "",
           "title": {
            "standoff": 15
           },
           "zerolinecolor": "white",
           "zerolinewidth": 2
          },
          "yaxis": {
           "automargin": true,
           "gridcolor": "white",
           "linecolor": "white",
           "ticks": "",
           "title": {
            "standoff": 15
           },
           "zerolinecolor": "white",
           "zerolinewidth": 2
          }
         }
        },
        "width": 800,
        "xaxis": {
         "anchor": "y",
         "domain": [
          0,
          1
         ],
         "title": {
          "text": "variable"
         }
        },
        "yaxis": {
         "anchor": "x",
         "domain": [
          0,
          1
         ],
         "range": [
          -0.02,
          1.02
         ],
         "title": {}
        }
       }
      }
     },
     "metadata": {},
     "output_type": "display_data"
    }
   ],
   "source": [
    "dta = ind_workshop[ind_netascore.index]\n",
    "plot = dta.boxplot(points=\"all\", title=\"Workshop: Indicator importance\" if plot_title else None)\n",
    "plot.update_layout(width=800, height=500, yaxis=dict(range=[-0.02,1.02], title=\"importance\" if plot_yAxTitle else None))\n",
    "plot.update_traces(marker_color=\"#15459C\", line_width=1, marker_size=2)\n",
    "plot.add_scatter(name=\"bikeability\", y=ind_netascore_norm, x=ind_netascore_norm.index, marker_size=50, line_color=\"#EB0F09\", showlegend=False, mode=\"markers\", marker_symbol=\"line-ew-open\")\n",
    "plot.show()\n",
    "if export_html: plot.write_html(os.path.join(output_dir, \"indicators_1.html\"))\n",
    "if export_png: plot.write_image(os.path.join(output_dir, \"indicators_1.png\"), scale=6)\n",
    "if export_svg: plot.write_image(os.path.join(output_dir, \"indicators_1.svg\"))\n",
    "if export_pdf: plot.write_image(os.path.join(output_dir, \"indicators_1.pdf\"))"
   ]
  },
  {
   "cell_type": "code",
   "execution_count": 5,
   "metadata": {},
   "outputs": [
    {
     "data": {
      "application/vnd.plotly.v1+json": {
       "config": {
        "plotlyServerURL": "https://plot.ly"
       },
       "data": [
        {
         "alignmentgroup": "True",
         "boxpoints": "all",
         "hovertemplate": "variable=%{x}<br>value=%{y}<extra></extra>",
         "legendgroup": "",
         "line": {
          "width": 1
         },
         "marker": {
          "color": "#15459C",
          "size": 2
         },
         "name": "",
         "notched": false,
         "offsetgroup": "",
         "orientation": "v",
         "showlegend": false,
         "type": "box",
         "x": [
          "bicycle_infrastructure",
          "bicycle_infrastructure",
          "bicycle_infrastructure",
          "bicycle_infrastructure",
          "bicycle_infrastructure",
          "bicycle_infrastructure",
          "bicycle_infrastructure",
          "bicycle_infrastructure",
          "bicycle_infrastructure",
          "bicycle_infrastructure",
          "bicycle_infrastructure",
          "bicycle_infrastructure",
          "bicycle_infrastructure",
          "bicycle_infrastructure",
          "bicycle_infrastructure",
          "bicycle_infrastructure",
          "bicycle_infrastructure",
          "bicycle_infrastructure",
          "designated_route",
          "designated_route",
          "designated_route",
          "designated_route",
          "designated_route",
          "designated_route",
          "designated_route",
          "designated_route",
          "designated_route",
          "designated_route",
          "designated_route",
          "designated_route",
          "designated_route",
          "designated_route",
          "designated_route",
          "designated_route",
          "designated_route",
          "designated_route",
          "road_category",
          "road_category",
          "road_category",
          "road_category",
          "road_category",
          "road_category",
          "road_category",
          "road_category",
          "road_category",
          "road_category",
          "road_category",
          "road_category",
          "road_category",
          "road_category",
          "road_category",
          "road_category",
          "road_category",
          "road_category",
          "max_speed",
          "max_speed",
          "max_speed",
          "max_speed",
          "max_speed",
          "max_speed",
          "max_speed",
          "max_speed",
          "max_speed",
          "max_speed",
          "max_speed",
          "max_speed",
          "max_speed",
          "max_speed",
          "max_speed",
          "max_speed",
          "max_speed",
          "max_speed",
          "car_parking",
          "car_parking",
          "car_parking",
          "car_parking",
          "car_parking",
          "car_parking",
          "car_parking",
          "car_parking",
          "car_parking",
          "car_parking",
          "car_parking",
          "car_parking",
          "car_parking",
          "car_parking",
          "car_parking",
          "car_parking",
          "car_parking",
          "car_parking",
          "pavement",
          "pavement",
          "pavement",
          "pavement",
          "pavement",
          "pavement",
          "pavement",
          "pavement",
          "pavement",
          "pavement",
          "pavement",
          "pavement",
          "pavement",
          "pavement",
          "pavement",
          "pavement",
          "pavement",
          "pavement",
          "gradient",
          "gradient",
          "gradient",
          "gradient",
          "gradient",
          "gradient",
          "gradient",
          "gradient",
          "gradient",
          "gradient",
          "gradient",
          "gradient",
          "gradient",
          "gradient",
          "gradient",
          "gradient",
          "gradient",
          "gradient",
          "traffic_lights_or_stops",
          "traffic_lights_or_stops",
          "traffic_lights_or_stops",
          "traffic_lights_or_stops",
          "traffic_lights_or_stops",
          "traffic_lights_or_stops",
          "traffic_lights_or_stops",
          "traffic_lights_or_stops",
          "traffic_lights_or_stops",
          "traffic_lights_or_stops",
          "traffic_lights_or_stops",
          "traffic_lights_or_stops",
          "traffic_lights_or_stops",
          "traffic_lights_or_stops",
          "traffic_lights_or_stops",
          "traffic_lights_or_stops",
          "traffic_lights_or_stops",
          "traffic_lights_or_stops",
          "natural_environment",
          "natural_environment",
          "natural_environment",
          "natural_environment",
          "natural_environment",
          "natural_environment",
          "natural_environment",
          "natural_environment",
          "natural_environment",
          "natural_environment",
          "natural_environment",
          "natural_environment",
          "natural_environment",
          "natural_environment",
          "natural_environment",
          "natural_environment",
          "natural_environment",
          "natural_environment",
          "car_traffic_volume",
          "car_traffic_volume",
          "car_traffic_volume",
          "car_traffic_volume",
          "car_traffic_volume",
          "car_traffic_volume",
          "car_traffic_volume",
          "car_traffic_volume",
          "car_traffic_volume",
          "car_traffic_volume",
          "car_traffic_volume",
          "car_traffic_volume",
          "car_traffic_volume",
          "car_traffic_volume",
          "car_traffic_volume",
          "car_traffic_volume",
          "car_traffic_volume",
          "car_traffic_volume",
          "width_cycle_together",
          "width_cycle_together",
          "width_cycle_together",
          "width_cycle_together",
          "width_cycle_together",
          "width_cycle_together",
          "width_cycle_together",
          "width_cycle_together",
          "width_cycle_together",
          "width_cycle_together",
          "width_cycle_together",
          "width_cycle_together",
          "width_cycle_together",
          "width_cycle_together",
          "width_cycle_together",
          "width_cycle_together",
          "width_cycle_together",
          "width_cycle_together",
          "lighting",
          "lighting",
          "lighting",
          "lighting",
          "lighting",
          "lighting",
          "lighting",
          "lighting",
          "lighting",
          "lighting",
          "lighting",
          "lighting",
          "lighting",
          "lighting",
          "lighting",
          "lighting",
          "lighting",
          "lighting",
          "safe_parking_night",
          "safe_parking_night",
          "safe_parking_night",
          "safe_parking_night",
          "safe_parking_night",
          "safe_parking_night",
          "safe_parking_night",
          "safe_parking_night",
          "safe_parking_night",
          "safe_parking_night",
          "safe_parking_night",
          "safe_parking_night",
          "safe_parking_night",
          "safe_parking_night",
          "safe_parking_night",
          "safe_parking_night",
          "safe_parking_night",
          "safe_parking_night",
          "curve_x",
          "curve_x",
          "curve_x",
          "curve_x",
          "curve_x",
          "curve_x",
          "curve_x",
          "curve_x",
          "curve_x",
          "curve_x",
          "curve_x",
          "curve_x",
          "curve_x",
          "curve_x",
          "curve_x",
          "curve_x",
          "curve_x",
          "curve_x",
          "short_cuts",
          "short_cuts",
          "short_cuts",
          "short_cuts",
          "short_cuts",
          "short_cuts",
          "short_cuts",
          "short_cuts",
          "short_cuts",
          "short_cuts",
          "short_cuts",
          "short_cuts",
          "short_cuts",
          "short_cuts",
          "short_cuts",
          "short_cuts",
          "short_cuts",
          "short_cuts",
          "tram_tracks",
          "tram_tracks",
          "tram_tracks",
          "tram_tracks",
          "tram_tracks",
          "tram_tracks",
          "tram_tracks",
          "tram_tracks",
          "tram_tracks",
          "tram_tracks",
          "tram_tracks",
          "tram_tracks",
          "tram_tracks",
          "tram_tracks",
          "tram_tracks",
          "tram_tracks",
          "tram_tracks",
          "tram_tracks",
          "priority_at_intersections",
          "priority_at_intersections",
          "priority_at_intersections",
          "priority_at_intersections",
          "priority_at_intersections",
          "priority_at_intersections",
          "priority_at_intersections",
          "priority_at_intersections",
          "priority_at_intersections",
          "priority_at_intersections",
          "priority_at_intersections",
          "priority_at_intersections",
          "priority_at_intersections",
          "priority_at_intersections",
          "priority_at_intersections",
          "priority_at_intersections",
          "priority_at_intersections",
          "priority_at_intersections",
          "urban_environment",
          "urban_environment",
          "urban_environment",
          "urban_environment",
          "urban_environment",
          "urban_environment",
          "urban_environment",
          "urban_environment",
          "urban_environment",
          "urban_environment",
          "urban_environment",
          "urban_environment",
          "urban_environment",
          "urban_environment",
          "urban_environment",
          "urban_environment",
          "urban_environment",
          "urban_environment",
          "accidents_near_misses",
          "accidents_near_misses",
          "accidents_near_misses",
          "accidents_near_misses",
          "accidents_near_misses",
          "accidents_near_misses",
          "accidents_near_misses",
          "accidents_near_misses",
          "accidents_near_misses",
          "accidents_near_misses",
          "accidents_near_misses",
          "accidents_near_misses",
          "accidents_near_misses",
          "accidents_near_misses",
          "accidents_near_misses",
          "accidents_near_misses",
          "accidents_near_misses",
          "accidents_near_misses",
          "social_encounters",
          "social_encounters",
          "social_encounters",
          "social_encounters",
          "social_encounters",
          "social_encounters",
          "social_encounters",
          "social_encounters",
          "social_encounters",
          "social_encounters",
          "social_encounters",
          "social_encounters",
          "social_encounters",
          "social_encounters",
          "social_encounters",
          "social_encounters",
          "social_encounters",
          "social_encounters"
         ],
         "x0": " ",
         "xaxis": "x",
         "y": [
          0.7,
          0.7,
          0.72,
          0.73,
          0.76,
          0.76,
          0.79,
          0.85,
          0.86,
          0.91,
          0.92,
          0.92,
          0.93,
          0.95,
          0.96,
          0.97,
          0.99,
          1,
          0.04,
          0.09,
          0.15,
          0.21,
          0.23,
          0.27,
          0.37,
          0.5,
          0.5,
          0.51,
          0.59,
          0.6,
          0.67,
          0.84,
          0.87,
          0.88,
          0.93,
          null,
          0.02,
          0.03,
          0.1,
          0.13,
          0.14,
          0.23,
          0.27,
          0.47,
          0.48,
          0.58,
          0.65,
          0.85,
          0.98,
          null,
          null,
          null,
          null,
          null,
          0.62,
          0.64,
          0.68,
          0.75,
          0.76,
          0.76,
          0.79,
          0.8,
          0.82,
          0.82,
          0.85,
          0.87,
          0.9,
          0.96,
          1,
          null,
          null,
          null,
          0.01,
          0.18,
          0.32,
          0.34,
          0.43,
          0.45,
          0.5,
          0.56,
          0.6,
          0.68,
          0.68,
          0.93,
          null,
          null,
          null,
          null,
          null,
          null,
          0.24,
          0.28,
          0.31,
          0.34,
          0.39,
          0.41,
          0.57,
          0.6,
          0.65,
          0.75,
          0.75,
          0.78,
          0.79,
          0.83,
          0.83,
          0.83,
          0.85,
          0.99,
          0.22,
          0.33,
          0.5,
          0.5,
          0.51,
          0.57,
          0.59,
          0.62,
          0.66,
          0.69,
          0.73,
          0.73,
          0.74,
          0.78,
          0.84,
          0.87,
          0.99,
          null,
          0.2,
          0.49,
          0.52,
          0.6,
          0.78,
          0.82,
          0.83,
          0.85,
          0.92,
          null,
          null,
          null,
          null,
          null,
          null,
          null,
          null,
          null,
          0.28,
          0.44,
          0.45,
          0.5,
          0.51,
          0.53,
          0.61,
          0.61,
          0.61,
          0.66,
          0.78,
          0.79,
          0.88,
          0.92,
          0.95,
          0.96,
          0.96,
          null,
          0.68,
          0.68,
          0.75,
          0.76,
          0.85,
          0.85,
          0.86,
          0.87,
          0.87,
          0.93,
          0.97,
          0.98,
          0.98,
          0.98,
          0.98,
          1,
          null,
          null,
          0.03,
          0.43,
          0.52,
          0.54,
          0.58,
          0.6,
          0.62,
          0.67,
          0.68,
          0.68,
          0.84,
          0.87,
          0.91,
          0.91,
          0.93,
          0.95,
          0.97,
          0.98,
          0.29,
          0.53,
          0.54,
          0.57,
          0.6,
          0.67,
          0.69,
          0.71,
          0.71,
          0.72,
          0.73,
          0.75,
          0.79,
          0.83,
          0.84,
          0.89,
          null,
          null,
          0.85,
          0.87,
          0.9,
          0.93,
          0.93,
          1,
          1,
          null,
          null,
          null,
          null,
          null,
          null,
          null,
          null,
          null,
          null,
          null,
          0.85,
          1,
          null,
          null,
          null,
          null,
          null,
          null,
          null,
          null,
          null,
          null,
          null,
          null,
          null,
          null,
          null,
          null,
          0.5,
          0.55,
          0.91,
          0.99,
          0.99,
          1,
          1,
          null,
          null,
          null,
          null,
          null,
          null,
          null,
          null,
          null,
          null,
          null,
          0.13,
          0.29,
          0.46,
          0.51,
          0.75,
          0.76,
          0.81,
          0.94,
          null,
          null,
          null,
          null,
          null,
          null,
          null,
          null,
          null,
          null,
          0.77,
          0.8,
          0.8,
          null,
          null,
          null,
          null,
          null,
          null,
          null,
          null,
          null,
          null,
          null,
          null,
          null,
          null,
          null,
          0.59,
          null,
          null,
          null,
          null,
          null,
          null,
          null,
          null,
          null,
          null,
          null,
          null,
          null,
          null,
          null,
          null,
          null,
          0.84,
          0.95,
          null,
          null,
          null,
          null,
          null,
          null,
          null,
          null,
          null,
          null,
          null,
          null,
          null,
          null,
          null,
          null,
          null,
          null,
          null,
          null,
          null,
          null,
          null,
          null,
          null,
          null,
          null,
          null,
          null,
          null,
          null,
          null,
          null,
          null
         ],
         "y0": " ",
         "yaxis": "y"
        },
        {
         "line": {
          "color": "#EB0F09"
         },
         "marker": {
          "size": 30,
          "symbol": "line-ew-open"
         },
         "mode": "markers",
         "name": "bikeability",
         "showlegend": false,
         "type": "scatter",
         "x": [
          "bicycle_infrastructure",
          "designated_route",
          "road_category",
          "max_speed",
          "car_parking",
          "pavement",
          "gradient"
         ],
         "y": [
          0.6666666666666667,
          0.33333333333333337,
          1,
          0.33333333333333337,
          0.33333333333333337,
          0.33333333333333337,
          0.33333333333333337
         ]
        }
       ],
       "layout": {
        "boxmode": "group",
        "height": 500,
        "legend": {
         "tracegroupgap": 0
        },
        "margin": {
         "t": 60
        },
        "template": {
         "data": {
          "bar": [
           {
            "error_x": {
             "color": "#2a3f5f"
            },
            "error_y": {
             "color": "#2a3f5f"
            },
            "marker": {
             "line": {
              "color": "#E5ECF6",
              "width": 0.5
             },
             "pattern": {
              "fillmode": "overlay",
              "size": 10,
              "solidity": 0.2
             }
            },
            "type": "bar"
           }
          ],
          "barpolar": [
           {
            "marker": {
             "line": {
              "color": "#E5ECF6",
              "width": 0.5
             },
             "pattern": {
              "fillmode": "overlay",
              "size": 10,
              "solidity": 0.2
             }
            },
            "type": "barpolar"
           }
          ],
          "carpet": [
           {
            "aaxis": {
             "endlinecolor": "#2a3f5f",
             "gridcolor": "white",
             "linecolor": "white",
             "minorgridcolor": "white",
             "startlinecolor": "#2a3f5f"
            },
            "baxis": {
             "endlinecolor": "#2a3f5f",
             "gridcolor": "white",
             "linecolor": "white",
             "minorgridcolor": "white",
             "startlinecolor": "#2a3f5f"
            },
            "type": "carpet"
           }
          ],
          "choropleth": [
           {
            "colorbar": {
             "outlinewidth": 0,
             "ticks": ""
            },
            "type": "choropleth"
           }
          ],
          "contour": [
           {
            "colorbar": {
             "outlinewidth": 0,
             "ticks": ""
            },
            "colorscale": [
             [
              0,
              "#0d0887"
             ],
             [
              0.1111111111111111,
              "#46039f"
             ],
             [
              0.2222222222222222,
              "#7201a8"
             ],
             [
              0.3333333333333333,
              "#9c179e"
             ],
             [
              0.4444444444444444,
              "#bd3786"
             ],
             [
              0.5555555555555556,
              "#d8576b"
             ],
             [
              0.6666666666666666,
              "#ed7953"
             ],
             [
              0.7777777777777778,
              "#fb9f3a"
             ],
             [
              0.8888888888888888,
              "#fdca26"
             ],
             [
              1,
              "#f0f921"
             ]
            ],
            "type": "contour"
           }
          ],
          "contourcarpet": [
           {
            "colorbar": {
             "outlinewidth": 0,
             "ticks": ""
            },
            "type": "contourcarpet"
           }
          ],
          "heatmap": [
           {
            "colorbar": {
             "outlinewidth": 0,
             "ticks": ""
            },
            "colorscale": [
             [
              0,
              "#0d0887"
             ],
             [
              0.1111111111111111,
              "#46039f"
             ],
             [
              0.2222222222222222,
              "#7201a8"
             ],
             [
              0.3333333333333333,
              "#9c179e"
             ],
             [
              0.4444444444444444,
              "#bd3786"
             ],
             [
              0.5555555555555556,
              "#d8576b"
             ],
             [
              0.6666666666666666,
              "#ed7953"
             ],
             [
              0.7777777777777778,
              "#fb9f3a"
             ],
             [
              0.8888888888888888,
              "#fdca26"
             ],
             [
              1,
              "#f0f921"
             ]
            ],
            "type": "heatmap"
           }
          ],
          "heatmapgl": [
           {
            "colorbar": {
             "outlinewidth": 0,
             "ticks": ""
            },
            "colorscale": [
             [
              0,
              "#0d0887"
             ],
             [
              0.1111111111111111,
              "#46039f"
             ],
             [
              0.2222222222222222,
              "#7201a8"
             ],
             [
              0.3333333333333333,
              "#9c179e"
             ],
             [
              0.4444444444444444,
              "#bd3786"
             ],
             [
              0.5555555555555556,
              "#d8576b"
             ],
             [
              0.6666666666666666,
              "#ed7953"
             ],
             [
              0.7777777777777778,
              "#fb9f3a"
             ],
             [
              0.8888888888888888,
              "#fdca26"
             ],
             [
              1,
              "#f0f921"
             ]
            ],
            "type": "heatmapgl"
           }
          ],
          "histogram": [
           {
            "marker": {
             "pattern": {
              "fillmode": "overlay",
              "size": 10,
              "solidity": 0.2
             }
            },
            "type": "histogram"
           }
          ],
          "histogram2d": [
           {
            "colorbar": {
             "outlinewidth": 0,
             "ticks": ""
            },
            "colorscale": [
             [
              0,
              "#0d0887"
             ],
             [
              0.1111111111111111,
              "#46039f"
             ],
             [
              0.2222222222222222,
              "#7201a8"
             ],
             [
              0.3333333333333333,
              "#9c179e"
             ],
             [
              0.4444444444444444,
              "#bd3786"
             ],
             [
              0.5555555555555556,
              "#d8576b"
             ],
             [
              0.6666666666666666,
              "#ed7953"
             ],
             [
              0.7777777777777778,
              "#fb9f3a"
             ],
             [
              0.8888888888888888,
              "#fdca26"
             ],
             [
              1,
              "#f0f921"
             ]
            ],
            "type": "histogram2d"
           }
          ],
          "histogram2dcontour": [
           {
            "colorbar": {
             "outlinewidth": 0,
             "ticks": ""
            },
            "colorscale": [
             [
              0,
              "#0d0887"
             ],
             [
              0.1111111111111111,
              "#46039f"
             ],
             [
              0.2222222222222222,
              "#7201a8"
             ],
             [
              0.3333333333333333,
              "#9c179e"
             ],
             [
              0.4444444444444444,
              "#bd3786"
             ],
             [
              0.5555555555555556,
              "#d8576b"
             ],
             [
              0.6666666666666666,
              "#ed7953"
             ],
             [
              0.7777777777777778,
              "#fb9f3a"
             ],
             [
              0.8888888888888888,
              "#fdca26"
             ],
             [
              1,
              "#f0f921"
             ]
            ],
            "type": "histogram2dcontour"
           }
          ],
          "mesh3d": [
           {
            "colorbar": {
             "outlinewidth": 0,
             "ticks": ""
            },
            "type": "mesh3d"
           }
          ],
          "parcoords": [
           {
            "line": {
             "colorbar": {
              "outlinewidth": 0,
              "ticks": ""
             }
            },
            "type": "parcoords"
           }
          ],
          "pie": [
           {
            "automargin": true,
            "type": "pie"
           }
          ],
          "scatter": [
           {
            "fillpattern": {
             "fillmode": "overlay",
             "size": 10,
             "solidity": 0.2
            },
            "type": "scatter"
           }
          ],
          "scatter3d": [
           {
            "line": {
             "colorbar": {
              "outlinewidth": 0,
              "ticks": ""
             }
            },
            "marker": {
             "colorbar": {
              "outlinewidth": 0,
              "ticks": ""
             }
            },
            "type": "scatter3d"
           }
          ],
          "scattercarpet": [
           {
            "marker": {
             "colorbar": {
              "outlinewidth": 0,
              "ticks": ""
             }
            },
            "type": "scattercarpet"
           }
          ],
          "scattergeo": [
           {
            "marker": {
             "colorbar": {
              "outlinewidth": 0,
              "ticks": ""
             }
            },
            "type": "scattergeo"
           }
          ],
          "scattergl": [
           {
            "marker": {
             "colorbar": {
              "outlinewidth": 0,
              "ticks": ""
             }
            },
            "type": "scattergl"
           }
          ],
          "scattermapbox": [
           {
            "marker": {
             "colorbar": {
              "outlinewidth": 0,
              "ticks": ""
             }
            },
            "type": "scattermapbox"
           }
          ],
          "scatterpolar": [
           {
            "marker": {
             "colorbar": {
              "outlinewidth": 0,
              "ticks": ""
             }
            },
            "type": "scatterpolar"
           }
          ],
          "scatterpolargl": [
           {
            "marker": {
             "colorbar": {
              "outlinewidth": 0,
              "ticks": ""
             }
            },
            "type": "scatterpolargl"
           }
          ],
          "scatterternary": [
           {
            "marker": {
             "colorbar": {
              "outlinewidth": 0,
              "ticks": ""
             }
            },
            "type": "scatterternary"
           }
          ],
          "surface": [
           {
            "colorbar": {
             "outlinewidth": 0,
             "ticks": ""
            },
            "colorscale": [
             [
              0,
              "#0d0887"
             ],
             [
              0.1111111111111111,
              "#46039f"
             ],
             [
              0.2222222222222222,
              "#7201a8"
             ],
             [
              0.3333333333333333,
              "#9c179e"
             ],
             [
              0.4444444444444444,
              "#bd3786"
             ],
             [
              0.5555555555555556,
              "#d8576b"
             ],
             [
              0.6666666666666666,
              "#ed7953"
             ],
             [
              0.7777777777777778,
              "#fb9f3a"
             ],
             [
              0.8888888888888888,
              "#fdca26"
             ],
             [
              1,
              "#f0f921"
             ]
            ],
            "type": "surface"
           }
          ],
          "table": [
           {
            "cells": {
             "fill": {
              "color": "#EBF0F8"
             },
             "line": {
              "color": "white"
             }
            },
            "header": {
             "fill": {
              "color": "#C8D4E3"
             },
             "line": {
              "color": "white"
             }
            },
            "type": "table"
           }
          ]
         },
         "layout": {
          "annotationdefaults": {
           "arrowcolor": "#2a3f5f",
           "arrowhead": 0,
           "arrowwidth": 1
          },
          "autotypenumbers": "strict",
          "coloraxis": {
           "colorbar": {
            "outlinewidth": 0,
            "ticks": ""
           }
          },
          "colorscale": {
           "diverging": [
            [
             0,
             "#8e0152"
            ],
            [
             0.1,
             "#c51b7d"
            ],
            [
             0.2,
             "#de77ae"
            ],
            [
             0.3,
             "#f1b6da"
            ],
            [
             0.4,
             "#fde0ef"
            ],
            [
             0.5,
             "#f7f7f7"
            ],
            [
             0.6,
             "#e6f5d0"
            ],
            [
             0.7,
             "#b8e186"
            ],
            [
             0.8,
             "#7fbc41"
            ],
            [
             0.9,
             "#4d9221"
            ],
            [
             1,
             "#276419"
            ]
           ],
           "sequential": [
            [
             0,
             "#0d0887"
            ],
            [
             0.1111111111111111,
             "#46039f"
            ],
            [
             0.2222222222222222,
             "#7201a8"
            ],
            [
             0.3333333333333333,
             "#9c179e"
            ],
            [
             0.4444444444444444,
             "#bd3786"
            ],
            [
             0.5555555555555556,
             "#d8576b"
            ],
            [
             0.6666666666666666,
             "#ed7953"
            ],
            [
             0.7777777777777778,
             "#fb9f3a"
            ],
            [
             0.8888888888888888,
             "#fdca26"
            ],
            [
             1,
             "#f0f921"
            ]
           ],
           "sequentialminus": [
            [
             0,
             "#0d0887"
            ],
            [
             0.1111111111111111,
             "#46039f"
            ],
            [
             0.2222222222222222,
             "#7201a8"
            ],
            [
             0.3333333333333333,
             "#9c179e"
            ],
            [
             0.4444444444444444,
             "#bd3786"
            ],
            [
             0.5555555555555556,
             "#d8576b"
            ],
            [
             0.6666666666666666,
             "#ed7953"
            ],
            [
             0.7777777777777778,
             "#fb9f3a"
            ],
            [
             0.8888888888888888,
             "#fdca26"
            ],
            [
             1,
             "#f0f921"
            ]
           ]
          },
          "colorway": [
           "#636efa",
           "#EF553B",
           "#00cc96",
           "#ab63fa",
           "#FFA15A",
           "#19d3f3",
           "#FF6692",
           "#B6E880",
           "#FF97FF",
           "#FECB52"
          ],
          "font": {
           "color": "#2a3f5f"
          },
          "geo": {
           "bgcolor": "white",
           "lakecolor": "white",
           "landcolor": "#E5ECF6",
           "showlakes": true,
           "showland": true,
           "subunitcolor": "white"
          },
          "hoverlabel": {
           "align": "left"
          },
          "hovermode": "closest",
          "mapbox": {
           "style": "light"
          },
          "paper_bgcolor": "white",
          "plot_bgcolor": "#E5ECF6",
          "polar": {
           "angularaxis": {
            "gridcolor": "white",
            "linecolor": "white",
            "ticks": ""
           },
           "bgcolor": "#E5ECF6",
           "radialaxis": {
            "gridcolor": "white",
            "linecolor": "white",
            "ticks": ""
           }
          },
          "scene": {
           "xaxis": {
            "backgroundcolor": "#E5ECF6",
            "gridcolor": "white",
            "gridwidth": 2,
            "linecolor": "white",
            "showbackground": true,
            "ticks": "",
            "zerolinecolor": "white"
           },
           "yaxis": {
            "backgroundcolor": "#E5ECF6",
            "gridcolor": "white",
            "gridwidth": 2,
            "linecolor": "white",
            "showbackground": true,
            "ticks": "",
            "zerolinecolor": "white"
           },
           "zaxis": {
            "backgroundcolor": "#E5ECF6",
            "gridcolor": "white",
            "gridwidth": 2,
            "linecolor": "white",
            "showbackground": true,
            "ticks": "",
            "zerolinecolor": "white"
           }
          },
          "shapedefaults": {
           "line": {
            "color": "#2a3f5f"
           }
          },
          "ternary": {
           "aaxis": {
            "gridcolor": "white",
            "linecolor": "white",
            "ticks": ""
           },
           "baxis": {
            "gridcolor": "white",
            "linecolor": "white",
            "ticks": ""
           },
           "bgcolor": "#E5ECF6",
           "caxis": {
            "gridcolor": "white",
            "linecolor": "white",
            "ticks": ""
           }
          },
          "title": {
           "x": 0.05
          },
          "xaxis": {
           "automargin": true,
           "gridcolor": "white",
           "linecolor": "white",
           "ticks": "",
           "title": {
            "standoff": 15
           },
           "zerolinecolor": "white",
           "zerolinewidth": 2
          },
          "yaxis": {
           "automargin": true,
           "gridcolor": "white",
           "linecolor": "white",
           "ticks": "",
           "title": {
            "standoff": 15
           },
           "zerolinecolor": "white",
           "zerolinewidth": 2
          }
         }
        },
        "width": 1200,
        "xaxis": {
         "anchor": "y",
         "domain": [
          0,
          1
         ],
         "title": {
          "text": "variable"
         }
        },
        "yaxis": {
         "anchor": "x",
         "domain": [
          0,
          1
         ],
         "range": [
          -0.02,
          1.02
         ],
         "title": {}
        }
       }
      }
     },
     "metadata": {},
     "output_type": "display_data"
    }
   ],
   "source": [
    "dta = ind_workshop\n",
    "plot = dta.boxplot(points=\"all\", title=\"Workshop: Indicator importance (full set)\" if plot_title else None)\n",
    "plot.update_layout(width=1200, height=500, yaxis=dict(range=[-0.02,1.02], title=\"importance\" if plot_yAxTitle else None))\n",
    "plot.update_traces(marker_color=\"#15459C\", line_width=1, marker_size=2)\n",
    "plot.add_scatter(name=\"bikeability\", y=ind_netascore_norm, x=ind_netascore_norm.index, marker_size=30, line_color=\"#EB0F09\", showlegend=False, mode=\"markers\", marker_symbol=\"line-ew-open\")\n",
    "plot.show()\n",
    "if export_html: plot.write_html(os.path.join(output_dir, \"indicators_2.html\"))\n",
    "if export_png: plot.write_image(os.path.join(output_dir, \"indicators_2.png\"), scale=6)\n",
    "if export_svg: plot.write_image(os.path.join(output_dir, \"indicators_2.svg\"))\n",
    "if export_pdf: plot.write_image(os.path.join(output_dir, \"indicators_2.pdf\"))"
   ]
  },
  {
   "cell_type": "code",
   "execution_count": 6,
   "metadata": {},
   "outputs": [
    {
     "data": {
      "application/vnd.plotly.v1+json": {
       "config": {
        "plotlyServerURL": "https://plot.ly"
       },
       "data": [
        {
         "alignmentgroup": "True",
         "boxpoints": "all",
         "hovertemplate": "variable=%{x}<br>value=%{y}<extra></extra>",
         "legendgroup": "",
         "line": {
          "width": 1
         },
         "marker": {
          "color": "#15459C",
          "size": 2
         },
         "name": "",
         "notched": false,
         "offsetgroup": "",
         "orientation": "v",
         "showlegend": false,
         "type": "box",
         "x": [
          "bicycle_infrastructure",
          "bicycle_infrastructure",
          "bicycle_infrastructure",
          "bicycle_infrastructure",
          "bicycle_infrastructure",
          "bicycle_infrastructure",
          "bicycle_infrastructure",
          "bicycle_infrastructure",
          "bicycle_infrastructure",
          "bicycle_infrastructure",
          "bicycle_infrastructure",
          "bicycle_infrastructure",
          "bicycle_infrastructure",
          "bicycle_infrastructure",
          "bicycle_infrastructure",
          "bicycle_infrastructure",
          "bicycle_infrastructure",
          "bicycle_infrastructure",
          "designated_route",
          "designated_route",
          "designated_route",
          "designated_route",
          "designated_route",
          "designated_route",
          "designated_route",
          "designated_route",
          "designated_route",
          "designated_route",
          "designated_route",
          "designated_route",
          "designated_route",
          "designated_route",
          "designated_route",
          "designated_route",
          "designated_route",
          "designated_route",
          "road_category",
          "road_category",
          "road_category",
          "road_category",
          "road_category",
          "road_category",
          "road_category",
          "road_category",
          "road_category",
          "road_category",
          "road_category",
          "road_category",
          "road_category",
          "road_category",
          "road_category",
          "road_category",
          "road_category",
          "road_category",
          "max_speed",
          "max_speed",
          "max_speed",
          "max_speed",
          "max_speed",
          "max_speed",
          "max_speed",
          "max_speed",
          "max_speed",
          "max_speed",
          "max_speed",
          "max_speed",
          "max_speed",
          "max_speed",
          "max_speed",
          "max_speed",
          "max_speed",
          "max_speed",
          "car_parking",
          "car_parking",
          "car_parking",
          "car_parking",
          "car_parking",
          "car_parking",
          "car_parking",
          "car_parking",
          "car_parking",
          "car_parking",
          "car_parking",
          "car_parking",
          "car_parking",
          "car_parking",
          "car_parking",
          "car_parking",
          "car_parking",
          "car_parking",
          "pavement",
          "pavement",
          "pavement",
          "pavement",
          "pavement",
          "pavement",
          "pavement",
          "pavement",
          "pavement",
          "pavement",
          "pavement",
          "pavement",
          "pavement",
          "pavement",
          "pavement",
          "pavement",
          "pavement",
          "pavement",
          "gradient",
          "gradient",
          "gradient",
          "gradient",
          "gradient",
          "gradient",
          "gradient",
          "gradient",
          "gradient",
          "gradient",
          "gradient",
          "gradient",
          "gradient",
          "gradient",
          "gradient",
          "gradient",
          "gradient",
          "gradient",
          "traffic_lights_or_stops",
          "traffic_lights_or_stops",
          "traffic_lights_or_stops",
          "traffic_lights_or_stops",
          "traffic_lights_or_stops",
          "traffic_lights_or_stops",
          "traffic_lights_or_stops",
          "traffic_lights_or_stops",
          "traffic_lights_or_stops",
          "traffic_lights_or_stops",
          "traffic_lights_or_stops",
          "traffic_lights_or_stops",
          "traffic_lights_or_stops",
          "traffic_lights_or_stops",
          "traffic_lights_or_stops",
          "traffic_lights_or_stops",
          "traffic_lights_or_stops",
          "traffic_lights_or_stops",
          "natural_environment",
          "natural_environment",
          "natural_environment",
          "natural_environment",
          "natural_environment",
          "natural_environment",
          "natural_environment",
          "natural_environment",
          "natural_environment",
          "natural_environment",
          "natural_environment",
          "natural_environment",
          "natural_environment",
          "natural_environment",
          "natural_environment",
          "natural_environment",
          "natural_environment",
          "natural_environment",
          "car_traffic_volume",
          "car_traffic_volume",
          "car_traffic_volume",
          "car_traffic_volume",
          "car_traffic_volume",
          "car_traffic_volume",
          "car_traffic_volume",
          "car_traffic_volume",
          "car_traffic_volume",
          "car_traffic_volume",
          "car_traffic_volume",
          "car_traffic_volume",
          "car_traffic_volume",
          "car_traffic_volume",
          "car_traffic_volume",
          "car_traffic_volume",
          "car_traffic_volume",
          "car_traffic_volume",
          "width_cycle_together",
          "width_cycle_together",
          "width_cycle_together",
          "width_cycle_together",
          "width_cycle_together",
          "width_cycle_together",
          "width_cycle_together",
          "width_cycle_together",
          "width_cycle_together",
          "width_cycle_together",
          "width_cycle_together",
          "width_cycle_together",
          "width_cycle_together",
          "width_cycle_together",
          "width_cycle_together",
          "width_cycle_together",
          "width_cycle_together",
          "width_cycle_together",
          "lighting",
          "lighting",
          "lighting",
          "lighting",
          "lighting",
          "lighting",
          "lighting",
          "lighting",
          "lighting",
          "lighting",
          "lighting",
          "lighting",
          "lighting",
          "lighting",
          "lighting",
          "lighting",
          "lighting",
          "lighting",
          "safe_parking_night",
          "safe_parking_night",
          "safe_parking_night",
          "safe_parking_night",
          "safe_parking_night",
          "safe_parking_night",
          "safe_parking_night",
          "safe_parking_night",
          "safe_parking_night",
          "safe_parking_night",
          "safe_parking_night",
          "safe_parking_night",
          "safe_parking_night",
          "safe_parking_night",
          "safe_parking_night",
          "safe_parking_night",
          "safe_parking_night",
          "safe_parking_night",
          "short_cuts",
          "short_cuts",
          "short_cuts",
          "short_cuts",
          "short_cuts",
          "short_cuts",
          "short_cuts",
          "short_cuts",
          "short_cuts",
          "short_cuts",
          "short_cuts",
          "short_cuts",
          "short_cuts",
          "short_cuts",
          "short_cuts",
          "short_cuts",
          "short_cuts",
          "short_cuts",
          "tram_tracks",
          "tram_tracks",
          "tram_tracks",
          "tram_tracks",
          "tram_tracks",
          "tram_tracks",
          "tram_tracks",
          "tram_tracks",
          "tram_tracks",
          "tram_tracks",
          "tram_tracks",
          "tram_tracks",
          "tram_tracks",
          "tram_tracks",
          "tram_tracks",
          "tram_tracks",
          "tram_tracks",
          "tram_tracks"
         ],
         "x0": " ",
         "xaxis": "x",
         "y": [
          0.7,
          0.7,
          0.72,
          0.73,
          0.76,
          0.76,
          0.79,
          0.85,
          0.86,
          0.91,
          0.92,
          0.92,
          0.93,
          0.95,
          0.96,
          0.97,
          0.99,
          1,
          0.04,
          0.09,
          0.15,
          0.21,
          0.23,
          0.27,
          0.37,
          0.5,
          0.5,
          0.51,
          0.59,
          0.6,
          0.67,
          0.84,
          0.87,
          0.88,
          0.93,
          null,
          0.02,
          0.03,
          0.1,
          0.13,
          0.14,
          0.23,
          0.27,
          0.47,
          0.48,
          0.58,
          0.65,
          0.85,
          0.98,
          null,
          null,
          null,
          null,
          null,
          0.62,
          0.64,
          0.68,
          0.75,
          0.76,
          0.76,
          0.79,
          0.8,
          0.82,
          0.82,
          0.85,
          0.87,
          0.9,
          0.96,
          1,
          null,
          null,
          null,
          0.01,
          0.18,
          0.32,
          0.34,
          0.43,
          0.45,
          0.5,
          0.56,
          0.6,
          0.68,
          0.68,
          0.93,
          null,
          null,
          null,
          null,
          null,
          null,
          0.24,
          0.28,
          0.31,
          0.34,
          0.39,
          0.41,
          0.57,
          0.6,
          0.65,
          0.75,
          0.75,
          0.78,
          0.79,
          0.83,
          0.83,
          0.83,
          0.85,
          0.99,
          0.22,
          0.33,
          0.5,
          0.5,
          0.51,
          0.57,
          0.59,
          0.62,
          0.66,
          0.69,
          0.73,
          0.73,
          0.74,
          0.78,
          0.84,
          0.87,
          0.99,
          null,
          0.2,
          0.49,
          0.52,
          0.6,
          0.78,
          0.82,
          0.83,
          0.85,
          0.92,
          null,
          null,
          null,
          null,
          null,
          null,
          null,
          null,
          null,
          0.28,
          0.44,
          0.45,
          0.5,
          0.51,
          0.53,
          0.61,
          0.61,
          0.61,
          0.66,
          0.78,
          0.79,
          0.88,
          0.92,
          0.95,
          0.96,
          0.96,
          null,
          0.68,
          0.68,
          0.75,
          0.76,
          0.85,
          0.85,
          0.86,
          0.87,
          0.87,
          0.93,
          0.97,
          0.98,
          0.98,
          0.98,
          0.98,
          1,
          null,
          null,
          0.03,
          0.43,
          0.52,
          0.54,
          0.58,
          0.6,
          0.62,
          0.67,
          0.68,
          0.68,
          0.84,
          0.87,
          0.91,
          0.91,
          0.93,
          0.95,
          0.97,
          0.98,
          0.29,
          0.53,
          0.54,
          0.57,
          0.6,
          0.67,
          0.69,
          0.71,
          0.71,
          0.72,
          0.73,
          0.75,
          0.79,
          0.83,
          0.84,
          0.89,
          null,
          null,
          0.85,
          0.87,
          0.9,
          0.93,
          0.93,
          1,
          1,
          null,
          null,
          null,
          null,
          null,
          null,
          null,
          null,
          null,
          null,
          null,
          0.5,
          0.55,
          0.91,
          0.99,
          0.99,
          1,
          1,
          null,
          null,
          null,
          null,
          null,
          null,
          null,
          null,
          null,
          null,
          null,
          0.13,
          0.29,
          0.46,
          0.51,
          0.75,
          0.76,
          0.81,
          0.94,
          null,
          null,
          null,
          null,
          null,
          null,
          null,
          null,
          null,
          null
         ],
         "y0": " ",
         "yaxis": "y"
        },
        {
         "line": {
          "color": "#EB0F09"
         },
         "marker": {
          "size": 30,
          "symbol": "line-ew-open"
         },
         "mode": "markers",
         "name": "bikeability",
         "showlegend": false,
         "type": "scatter",
         "x": [
          "bicycle_infrastructure",
          "designated_route",
          "road_category",
          "max_speed",
          "car_parking",
          "pavement",
          "gradient"
         ],
         "y": [
          0.6666666666666667,
          0.33333333333333337,
          1,
          0.33333333333333337,
          0.33333333333333337,
          0.33333333333333337,
          0.33333333333333337
         ]
        }
       ],
       "layout": {
        "boxmode": "group",
        "height": 500,
        "legend": {
         "tracegroupgap": 0
        },
        "margin": {
         "t": 60
        },
        "template": {
         "data": {
          "bar": [
           {
            "error_x": {
             "color": "#2a3f5f"
            },
            "error_y": {
             "color": "#2a3f5f"
            },
            "marker": {
             "line": {
              "color": "#E5ECF6",
              "width": 0.5
             },
             "pattern": {
              "fillmode": "overlay",
              "size": 10,
              "solidity": 0.2
             }
            },
            "type": "bar"
           }
          ],
          "barpolar": [
           {
            "marker": {
             "line": {
              "color": "#E5ECF6",
              "width": 0.5
             },
             "pattern": {
              "fillmode": "overlay",
              "size": 10,
              "solidity": 0.2
             }
            },
            "type": "barpolar"
           }
          ],
          "carpet": [
           {
            "aaxis": {
             "endlinecolor": "#2a3f5f",
             "gridcolor": "white",
             "linecolor": "white",
             "minorgridcolor": "white",
             "startlinecolor": "#2a3f5f"
            },
            "baxis": {
             "endlinecolor": "#2a3f5f",
             "gridcolor": "white",
             "linecolor": "white",
             "minorgridcolor": "white",
             "startlinecolor": "#2a3f5f"
            },
            "type": "carpet"
           }
          ],
          "choropleth": [
           {
            "colorbar": {
             "outlinewidth": 0,
             "ticks": ""
            },
            "type": "choropleth"
           }
          ],
          "contour": [
           {
            "colorbar": {
             "outlinewidth": 0,
             "ticks": ""
            },
            "colorscale": [
             [
              0,
              "#0d0887"
             ],
             [
              0.1111111111111111,
              "#46039f"
             ],
             [
              0.2222222222222222,
              "#7201a8"
             ],
             [
              0.3333333333333333,
              "#9c179e"
             ],
             [
              0.4444444444444444,
              "#bd3786"
             ],
             [
              0.5555555555555556,
              "#d8576b"
             ],
             [
              0.6666666666666666,
              "#ed7953"
             ],
             [
              0.7777777777777778,
              "#fb9f3a"
             ],
             [
              0.8888888888888888,
              "#fdca26"
             ],
             [
              1,
              "#f0f921"
             ]
            ],
            "type": "contour"
           }
          ],
          "contourcarpet": [
           {
            "colorbar": {
             "outlinewidth": 0,
             "ticks": ""
            },
            "type": "contourcarpet"
           }
          ],
          "heatmap": [
           {
            "colorbar": {
             "outlinewidth": 0,
             "ticks": ""
            },
            "colorscale": [
             [
              0,
              "#0d0887"
             ],
             [
              0.1111111111111111,
              "#46039f"
             ],
             [
              0.2222222222222222,
              "#7201a8"
             ],
             [
              0.3333333333333333,
              "#9c179e"
             ],
             [
              0.4444444444444444,
              "#bd3786"
             ],
             [
              0.5555555555555556,
              "#d8576b"
             ],
             [
              0.6666666666666666,
              "#ed7953"
             ],
             [
              0.7777777777777778,
              "#fb9f3a"
             ],
             [
              0.8888888888888888,
              "#fdca26"
             ],
             [
              1,
              "#f0f921"
             ]
            ],
            "type": "heatmap"
           }
          ],
          "heatmapgl": [
           {
            "colorbar": {
             "outlinewidth": 0,
             "ticks": ""
            },
            "colorscale": [
             [
              0,
              "#0d0887"
             ],
             [
              0.1111111111111111,
              "#46039f"
             ],
             [
              0.2222222222222222,
              "#7201a8"
             ],
             [
              0.3333333333333333,
              "#9c179e"
             ],
             [
              0.4444444444444444,
              "#bd3786"
             ],
             [
              0.5555555555555556,
              "#d8576b"
             ],
             [
              0.6666666666666666,
              "#ed7953"
             ],
             [
              0.7777777777777778,
              "#fb9f3a"
             ],
             [
              0.8888888888888888,
              "#fdca26"
             ],
             [
              1,
              "#f0f921"
             ]
            ],
            "type": "heatmapgl"
           }
          ],
          "histogram": [
           {
            "marker": {
             "pattern": {
              "fillmode": "overlay",
              "size": 10,
              "solidity": 0.2
             }
            },
            "type": "histogram"
           }
          ],
          "histogram2d": [
           {
            "colorbar": {
             "outlinewidth": 0,
             "ticks": ""
            },
            "colorscale": [
             [
              0,
              "#0d0887"
             ],
             [
              0.1111111111111111,
              "#46039f"
             ],
             [
              0.2222222222222222,
              "#7201a8"
             ],
             [
              0.3333333333333333,
              "#9c179e"
             ],
             [
              0.4444444444444444,
              "#bd3786"
             ],
             [
              0.5555555555555556,
              "#d8576b"
             ],
             [
              0.6666666666666666,
              "#ed7953"
             ],
             [
              0.7777777777777778,
              "#fb9f3a"
             ],
             [
              0.8888888888888888,
              "#fdca26"
             ],
             [
              1,
              "#f0f921"
             ]
            ],
            "type": "histogram2d"
           }
          ],
          "histogram2dcontour": [
           {
            "colorbar": {
             "outlinewidth": 0,
             "ticks": ""
            },
            "colorscale": [
             [
              0,
              "#0d0887"
             ],
             [
              0.1111111111111111,
              "#46039f"
             ],
             [
              0.2222222222222222,
              "#7201a8"
             ],
             [
              0.3333333333333333,
              "#9c179e"
             ],
             [
              0.4444444444444444,
              "#bd3786"
             ],
             [
              0.5555555555555556,
              "#d8576b"
             ],
             [
              0.6666666666666666,
              "#ed7953"
             ],
             [
              0.7777777777777778,
              "#fb9f3a"
             ],
             [
              0.8888888888888888,
              "#fdca26"
             ],
             [
              1,
              "#f0f921"
             ]
            ],
            "type": "histogram2dcontour"
           }
          ],
          "mesh3d": [
           {
            "colorbar": {
             "outlinewidth": 0,
             "ticks": ""
            },
            "type": "mesh3d"
           }
          ],
          "parcoords": [
           {
            "line": {
             "colorbar": {
              "outlinewidth": 0,
              "ticks": ""
             }
            },
            "type": "parcoords"
           }
          ],
          "pie": [
           {
            "automargin": true,
            "type": "pie"
           }
          ],
          "scatter": [
           {
            "fillpattern": {
             "fillmode": "overlay",
             "size": 10,
             "solidity": 0.2
            },
            "type": "scatter"
           }
          ],
          "scatter3d": [
           {
            "line": {
             "colorbar": {
              "outlinewidth": 0,
              "ticks": ""
             }
            },
            "marker": {
             "colorbar": {
              "outlinewidth": 0,
              "ticks": ""
             }
            },
            "type": "scatter3d"
           }
          ],
          "scattercarpet": [
           {
            "marker": {
             "colorbar": {
              "outlinewidth": 0,
              "ticks": ""
             }
            },
            "type": "scattercarpet"
           }
          ],
          "scattergeo": [
           {
            "marker": {
             "colorbar": {
              "outlinewidth": 0,
              "ticks": ""
             }
            },
            "type": "scattergeo"
           }
          ],
          "scattergl": [
           {
            "marker": {
             "colorbar": {
              "outlinewidth": 0,
              "ticks": ""
             }
            },
            "type": "scattergl"
           }
          ],
          "scattermapbox": [
           {
            "marker": {
             "colorbar": {
              "outlinewidth": 0,
              "ticks": ""
             }
            },
            "type": "scattermapbox"
           }
          ],
          "scatterpolar": [
           {
            "marker": {
             "colorbar": {
              "outlinewidth": 0,
              "ticks": ""
             }
            },
            "type": "scatterpolar"
           }
          ],
          "scatterpolargl": [
           {
            "marker": {
             "colorbar": {
              "outlinewidth": 0,
              "ticks": ""
             }
            },
            "type": "scatterpolargl"
           }
          ],
          "scatterternary": [
           {
            "marker": {
             "colorbar": {
              "outlinewidth": 0,
              "ticks": ""
             }
            },
            "type": "scatterternary"
           }
          ],
          "surface": [
           {
            "colorbar": {
             "outlinewidth": 0,
             "ticks": ""
            },
            "colorscale": [
             [
              0,
              "#0d0887"
             ],
             [
              0.1111111111111111,
              "#46039f"
             ],
             [
              0.2222222222222222,
              "#7201a8"
             ],
             [
              0.3333333333333333,
              "#9c179e"
             ],
             [
              0.4444444444444444,
              "#bd3786"
             ],
             [
              0.5555555555555556,
              "#d8576b"
             ],
             [
              0.6666666666666666,
              "#ed7953"
             ],
             [
              0.7777777777777778,
              "#fb9f3a"
             ],
             [
              0.8888888888888888,
              "#fdca26"
             ],
             [
              1,
              "#f0f921"
             ]
            ],
            "type": "surface"
           }
          ],
          "table": [
           {
            "cells": {
             "fill": {
              "color": "#EBF0F8"
             },
             "line": {
              "color": "white"
             }
            },
            "header": {
             "fill": {
              "color": "#C8D4E3"
             },
             "line": {
              "color": "white"
             }
            },
            "type": "table"
           }
          ]
         },
         "layout": {
          "annotationdefaults": {
           "arrowcolor": "#2a3f5f",
           "arrowhead": 0,
           "arrowwidth": 1
          },
          "autotypenumbers": "strict",
          "coloraxis": {
           "colorbar": {
            "outlinewidth": 0,
            "ticks": ""
           }
          },
          "colorscale": {
           "diverging": [
            [
             0,
             "#8e0152"
            ],
            [
             0.1,
             "#c51b7d"
            ],
            [
             0.2,
             "#de77ae"
            ],
            [
             0.3,
             "#f1b6da"
            ],
            [
             0.4,
             "#fde0ef"
            ],
            [
             0.5,
             "#f7f7f7"
            ],
            [
             0.6,
             "#e6f5d0"
            ],
            [
             0.7,
             "#b8e186"
            ],
            [
             0.8,
             "#7fbc41"
            ],
            [
             0.9,
             "#4d9221"
            ],
            [
             1,
             "#276419"
            ]
           ],
           "sequential": [
            [
             0,
             "#0d0887"
            ],
            [
             0.1111111111111111,
             "#46039f"
            ],
            [
             0.2222222222222222,
             "#7201a8"
            ],
            [
             0.3333333333333333,
             "#9c179e"
            ],
            [
             0.4444444444444444,
             "#bd3786"
            ],
            [
             0.5555555555555556,
             "#d8576b"
            ],
            [
             0.6666666666666666,
             "#ed7953"
            ],
            [
             0.7777777777777778,
             "#fb9f3a"
            ],
            [
             0.8888888888888888,
             "#fdca26"
            ],
            [
             1,
             "#f0f921"
            ]
           ],
           "sequentialminus": [
            [
             0,
             "#0d0887"
            ],
            [
             0.1111111111111111,
             "#46039f"
            ],
            [
             0.2222222222222222,
             "#7201a8"
            ],
            [
             0.3333333333333333,
             "#9c179e"
            ],
            [
             0.4444444444444444,
             "#bd3786"
            ],
            [
             0.5555555555555556,
             "#d8576b"
            ],
            [
             0.6666666666666666,
             "#ed7953"
            ],
            [
             0.7777777777777778,
             "#fb9f3a"
            ],
            [
             0.8888888888888888,
             "#fdca26"
            ],
            [
             1,
             "#f0f921"
            ]
           ]
          },
          "colorway": [
           "#636efa",
           "#EF553B",
           "#00cc96",
           "#ab63fa",
           "#FFA15A",
           "#19d3f3",
           "#FF6692",
           "#B6E880",
           "#FF97FF",
           "#FECB52"
          ],
          "font": {
           "color": "#2a3f5f"
          },
          "geo": {
           "bgcolor": "white",
           "lakecolor": "white",
           "landcolor": "#E5ECF6",
           "showlakes": true,
           "showland": true,
           "subunitcolor": "white"
          },
          "hoverlabel": {
           "align": "left"
          },
          "hovermode": "closest",
          "mapbox": {
           "style": "light"
          },
          "paper_bgcolor": "white",
          "plot_bgcolor": "#E5ECF6",
          "polar": {
           "angularaxis": {
            "gridcolor": "white",
            "linecolor": "white",
            "ticks": ""
           },
           "bgcolor": "#E5ECF6",
           "radialaxis": {
            "gridcolor": "white",
            "linecolor": "white",
            "ticks": ""
           }
          },
          "scene": {
           "xaxis": {
            "backgroundcolor": "#E5ECF6",
            "gridcolor": "white",
            "gridwidth": 2,
            "linecolor": "white",
            "showbackground": true,
            "ticks": "",
            "zerolinecolor": "white"
           },
           "yaxis": {
            "backgroundcolor": "#E5ECF6",
            "gridcolor": "white",
            "gridwidth": 2,
            "linecolor": "white",
            "showbackground": true,
            "ticks": "",
            "zerolinecolor": "white"
           },
           "zaxis": {
            "backgroundcolor": "#E5ECF6",
            "gridcolor": "white",
            "gridwidth": 2,
            "linecolor": "white",
            "showbackground": true,
            "ticks": "",
            "zerolinecolor": "white"
           }
          },
          "shapedefaults": {
           "line": {
            "color": "#2a3f5f"
           }
          },
          "ternary": {
           "aaxis": {
            "gridcolor": "white",
            "linecolor": "white",
            "ticks": ""
           },
           "baxis": {
            "gridcolor": "white",
            "linecolor": "white",
            "ticks": ""
           },
           "bgcolor": "#E5ECF6",
           "caxis": {
            "gridcolor": "white",
            "linecolor": "white",
            "ticks": ""
           }
          },
          "title": {
           "x": 0.05
          },
          "xaxis": {
           "automargin": true,
           "gridcolor": "white",
           "linecolor": "white",
           "ticks": "",
           "title": {
            "standoff": 15
           },
           "zerolinecolor": "white",
           "zerolinewidth": 2
          },
          "yaxis": {
           "automargin": true,
           "gridcolor": "white",
           "linecolor": "white",
           "ticks": "",
           "title": {
            "standoff": 15
           },
           "zerolinecolor": "white",
           "zerolinewidth": 2
          }
         }
        },
        "width": 1200,
        "xaxis": {
         "anchor": "y",
         "domain": [
          0,
          1
         ],
         "title": {
          "text": "variable"
         }
        },
        "yaxis": {
         "anchor": "x",
         "domain": [
          0,
          1
         ],
         "range": [
          -0.02,
          1.02
         ],
         "title": {}
        }
       }
      }
     },
     "metadata": {},
     "output_type": "display_data"
    },
    {
     "name": "stdout",
     "output_type": "stream",
     "text": [
      "Excluded indicators (with less than 5 ratings): ['curve_x', 'priority_at_intersections', 'urban_environment', 'accidents_near_misses', 'social_encounters']\n"
     ]
    }
   ],
   "source": [
    "ind_ws5 = ind_workshop.loc[:,ind_workshop.count()>4]\n",
    "plot = ind_ws5.boxplot(points=\"all\", title=\"Workshop: Indicator importance (indicators with min. 5 ratings)\" if plot_title else None)\n",
    "plot.update_layout(width=1200, height=500, yaxis=dict(range=[-0.02,1.02], title=\"importance\" if plot_yAxTitle else None))\n",
    "plot.update_traces(marker_color=\"#15459C\", line_width=1, marker_size=2)\n",
    "plot.add_scatter(name=\"bikeability\", y=ind_netascore_norm, x=ind_netascore_norm.index, marker_size=30, line_color=\"#EB0F09\", showlegend=False, mode=\"markers\", marker_symbol=\"line-ew-open\")\n",
    "plot.show()\n",
    "if export_html: plot.write_html(os.path.join(output_dir, \"indicators_3.html\"))\n",
    "if export_png: plot.write_image(os.path.join(output_dir, \"indicators_3.png\"), scale=6)\n",
    "if export_svg: plot.write_image(os.path.join(output_dir, \"indicators_3.svg\"))\n",
    "if export_pdf: plot.write_image(os.path.join(output_dir, \"indicators_3.pdf\"))\n",
    "print(f\"Excluded indicators (with less than 5 ratings): {ind_workshop.loc[:,ind_workshop.count()<5].columns.to_list()}\")"
   ]
  },
  {
   "cell_type": "code",
   "execution_count": 7,
   "metadata": {},
   "outputs": [
    {
     "data": {
      "application/vnd.plotly.v1+json": {
       "config": {
        "plotlyServerURL": "https://plot.ly"
       },
       "data": [
        {
         "alignmentgroup": "True",
         "boxpoints": "all",
         "hovertemplate": "variable=%{x}<br>value=%{y}<extra></extra>",
         "legendgroup": "",
         "line": {
          "width": 1
         },
         "marker": {
          "color": "#15459C",
          "size": 2
         },
         "name": "",
         "notched": false,
         "offsetgroup": "",
         "orientation": "v",
         "showlegend": false,
         "type": "box",
         "x": [
          "safe_parking_night",
          "safe_parking_night",
          "safe_parking_night",
          "safe_parking_night",
          "safe_parking_night",
          "safe_parking_night",
          "safe_parking_night",
          "safe_parking_night",
          "safe_parking_night",
          "safe_parking_night",
          "safe_parking_night",
          "safe_parking_night",
          "safe_parking_night",
          "safe_parking_night",
          "safe_parking_night",
          "safe_parking_night",
          "safe_parking_night",
          "safe_parking_night",
          "bicycle_infrastructure",
          "bicycle_infrastructure",
          "bicycle_infrastructure",
          "bicycle_infrastructure",
          "bicycle_infrastructure",
          "bicycle_infrastructure",
          "bicycle_infrastructure",
          "bicycle_infrastructure",
          "bicycle_infrastructure",
          "bicycle_infrastructure",
          "bicycle_infrastructure",
          "bicycle_infrastructure",
          "bicycle_infrastructure",
          "bicycle_infrastructure",
          "bicycle_infrastructure",
          "bicycle_infrastructure",
          "bicycle_infrastructure",
          "bicycle_infrastructure",
          "car_traffic_volume",
          "car_traffic_volume",
          "car_traffic_volume",
          "car_traffic_volume",
          "car_traffic_volume",
          "car_traffic_volume",
          "car_traffic_volume",
          "car_traffic_volume",
          "car_traffic_volume",
          "car_traffic_volume",
          "car_traffic_volume",
          "car_traffic_volume",
          "car_traffic_volume",
          "car_traffic_volume",
          "car_traffic_volume",
          "car_traffic_volume",
          "car_traffic_volume",
          "car_traffic_volume",
          "max_speed",
          "max_speed",
          "max_speed",
          "max_speed",
          "max_speed",
          "max_speed",
          "max_speed",
          "max_speed",
          "max_speed",
          "max_speed",
          "max_speed",
          "max_speed",
          "max_speed",
          "max_speed",
          "max_speed",
          "max_speed",
          "max_speed",
          "max_speed",
          "lighting",
          "lighting",
          "lighting",
          "lighting",
          "lighting",
          "lighting",
          "lighting",
          "lighting",
          "lighting",
          "lighting",
          "lighting",
          "lighting",
          "lighting",
          "lighting",
          "lighting",
          "lighting",
          "lighting",
          "lighting",
          "pavement",
          "pavement",
          "pavement",
          "pavement",
          "pavement",
          "pavement",
          "pavement",
          "pavement",
          "pavement",
          "pavement",
          "pavement",
          "pavement",
          "pavement",
          "pavement",
          "pavement",
          "pavement",
          "pavement",
          "pavement",
          "width_cycle_together",
          "width_cycle_together",
          "width_cycle_together",
          "width_cycle_together",
          "width_cycle_together",
          "width_cycle_together",
          "width_cycle_together",
          "width_cycle_together",
          "width_cycle_together",
          "width_cycle_together",
          "width_cycle_together",
          "width_cycle_together",
          "width_cycle_together",
          "width_cycle_together",
          "width_cycle_together",
          "width_cycle_together",
          "width_cycle_together",
          "width_cycle_together",
          "gradient",
          "gradient",
          "gradient",
          "gradient",
          "gradient",
          "gradient",
          "gradient",
          "gradient",
          "gradient",
          "gradient",
          "gradient",
          "gradient",
          "gradient",
          "gradient",
          "gradient",
          "gradient",
          "gradient",
          "gradient",
          "tram_tracks",
          "tram_tracks",
          "tram_tracks",
          "tram_tracks",
          "tram_tracks",
          "tram_tracks",
          "tram_tracks",
          "tram_tracks",
          "tram_tracks",
          "tram_tracks",
          "tram_tracks",
          "tram_tracks",
          "tram_tracks",
          "tram_tracks",
          "tram_tracks",
          "tram_tracks",
          "tram_tracks",
          "tram_tracks",
          "natural_environment",
          "natural_environment",
          "natural_environment",
          "natural_environment",
          "natural_environment",
          "natural_environment",
          "natural_environment",
          "natural_environment",
          "natural_environment",
          "natural_environment",
          "natural_environment",
          "natural_environment",
          "natural_environment",
          "natural_environment",
          "natural_environment",
          "natural_environment",
          "natural_environment",
          "natural_environment",
          "designated_route",
          "designated_route",
          "designated_route",
          "designated_route",
          "designated_route",
          "designated_route",
          "designated_route",
          "designated_route",
          "designated_route",
          "designated_route",
          "designated_route",
          "designated_route",
          "designated_route",
          "designated_route",
          "designated_route",
          "designated_route",
          "designated_route",
          "designated_route",
          "car_parking",
          "car_parking",
          "car_parking",
          "car_parking",
          "car_parking",
          "car_parking",
          "car_parking",
          "car_parking",
          "car_parking",
          "car_parking",
          "car_parking",
          "car_parking",
          "car_parking",
          "car_parking",
          "car_parking",
          "car_parking",
          "car_parking",
          "car_parking",
          "road_category",
          "road_category",
          "road_category",
          "road_category",
          "road_category",
          "road_category",
          "road_category",
          "road_category",
          "road_category",
          "road_category",
          "road_category",
          "road_category",
          "road_category",
          "road_category",
          "road_category",
          "road_category",
          "road_category",
          "road_category"
         ],
         "x0": " ",
         "xaxis": "x",
         "y": [
          0.85,
          0.87,
          0.9,
          0.93,
          0.93,
          1,
          1,
          null,
          null,
          null,
          null,
          null,
          null,
          null,
          null,
          null,
          null,
          null,
          0.7,
          0.7,
          0.72,
          0.73,
          0.76,
          0.76,
          0.79,
          0.85,
          0.86,
          0.91,
          0.92,
          0.92,
          0.93,
          0.95,
          0.96,
          0.97,
          0.99,
          1,
          0.68,
          0.68,
          0.75,
          0.76,
          0.85,
          0.85,
          0.86,
          0.87,
          0.87,
          0.93,
          0.97,
          0.98,
          0.98,
          0.98,
          0.98,
          1,
          null,
          null,
          0.62,
          0.64,
          0.68,
          0.75,
          0.76,
          0.76,
          0.79,
          0.8,
          0.82,
          0.82,
          0.85,
          0.87,
          0.9,
          0.96,
          1,
          null,
          null,
          null,
          0.29,
          0.53,
          0.54,
          0.57,
          0.6,
          0.67,
          0.69,
          0.71,
          0.71,
          0.72,
          0.73,
          0.75,
          0.79,
          0.83,
          0.84,
          0.89,
          null,
          null,
          0.24,
          0.28,
          0.31,
          0.34,
          0.39,
          0.41,
          0.57,
          0.6,
          0.65,
          0.75,
          0.75,
          0.78,
          0.79,
          0.83,
          0.83,
          0.83,
          0.85,
          0.99,
          0.03,
          0.43,
          0.52,
          0.54,
          0.58,
          0.6,
          0.62,
          0.67,
          0.68,
          0.68,
          0.84,
          0.87,
          0.91,
          0.91,
          0.93,
          0.95,
          0.97,
          0.98,
          0.22,
          0.33,
          0.5,
          0.5,
          0.51,
          0.57,
          0.59,
          0.62,
          0.66,
          0.69,
          0.73,
          0.73,
          0.74,
          0.78,
          0.84,
          0.87,
          0.99,
          null,
          0.13,
          0.29,
          0.46,
          0.51,
          0.75,
          0.76,
          0.81,
          0.94,
          null,
          null,
          null,
          null,
          null,
          null,
          null,
          null,
          null,
          null,
          0.28,
          0.44,
          0.45,
          0.5,
          0.51,
          0.53,
          0.61,
          0.61,
          0.61,
          0.66,
          0.78,
          0.79,
          0.88,
          0.92,
          0.95,
          0.96,
          0.96,
          null,
          0.04,
          0.09,
          0.15,
          0.21,
          0.23,
          0.27,
          0.37,
          0.5,
          0.5,
          0.51,
          0.59,
          0.6,
          0.67,
          0.84,
          0.87,
          0.88,
          0.93,
          null,
          0.01,
          0.18,
          0.32,
          0.34,
          0.43,
          0.45,
          0.5,
          0.56,
          0.6,
          0.68,
          0.68,
          0.93,
          null,
          null,
          null,
          null,
          null,
          null,
          0.02,
          0.03,
          0.1,
          0.13,
          0.14,
          0.23,
          0.27,
          0.47,
          0.48,
          0.58,
          0.65,
          0.85,
          0.98,
          null,
          null,
          null,
          null,
          null
         ],
         "y0": " ",
         "yaxis": "y"
        },
        {
         "line": {
          "color": "#EB0F09"
         },
         "marker": {
          "size": 30,
          "symbol": "line-ew-open"
         },
         "mode": "markers",
         "name": "bikeability",
         "showlegend": false,
         "type": "scatter",
         "x": [
          "bicycle_infrastructure",
          "designated_route",
          "road_category",
          "max_speed",
          "car_parking",
          "pavement",
          "gradient"
         ],
         "y": [
          0.6666666666666667,
          0.33333333333333337,
          1,
          0.33333333333333337,
          0.33333333333333337,
          0.33333333333333337,
          0.33333333333333337
         ]
        }
       ],
       "layout": {
        "annotations": [
         {
          "showarrow": false,
          "text": "n=7",
          "x": "safe_parking_night",
          "y": 1,
          "yshift": 15
         },
         {
          "showarrow": false,
          "text": "n=18",
          "x": "bicycle_infrastructure",
          "y": 1,
          "yshift": 15
         },
         {
          "showarrow": false,
          "text": "n=16",
          "x": "car_traffic_volume",
          "y": 1,
          "yshift": 15
         },
         {
          "showarrow": false,
          "text": "n=15",
          "x": "max_speed",
          "y": 1,
          "yshift": 15
         },
         {
          "showarrow": false,
          "text": "n=16",
          "x": "lighting",
          "y": 1,
          "yshift": 15
         },
         {
          "showarrow": false,
          "text": "n=18",
          "x": "pavement",
          "y": 1,
          "yshift": 15
         },
         {
          "showarrow": false,
          "text": "n=18",
          "x": "width_cycle_together",
          "y": 1,
          "yshift": 15
         },
         {
          "showarrow": false,
          "text": "n=17",
          "x": "gradient",
          "y": 1,
          "yshift": 15
         },
         {
          "showarrow": false,
          "text": "n=8",
          "x": "tram_tracks",
          "y": 1,
          "yshift": 15
         },
         {
          "showarrow": false,
          "text": "n=17",
          "x": "natural_environment",
          "y": 1,
          "yshift": 15
         },
         {
          "showarrow": false,
          "text": "n=17",
          "x": "designated_route",
          "y": 1,
          "yshift": 15
         },
         {
          "showarrow": false,
          "text": "n=12",
          "x": "car_parking",
          "y": 1,
          "yshift": 15
         },
         {
          "showarrow": false,
          "text": "n=13",
          "x": "road_category",
          "y": 1,
          "yshift": 15
         }
        ],
        "boxmode": "group",
        "height": 500,
        "legend": {
         "tracegroupgap": 0
        },
        "margin": {
         "b": 100,
         "l": 10,
         "r": 10,
         "t": 15
        },
        "template": {
         "data": {
          "bar": [
           {
            "error_x": {
             "color": "#2a3f5f"
            },
            "error_y": {
             "color": "#2a3f5f"
            },
            "marker": {
             "line": {
              "color": "#E5ECF6",
              "width": 0.5
             },
             "pattern": {
              "fillmode": "overlay",
              "size": 10,
              "solidity": 0.2
             }
            },
            "type": "bar"
           }
          ],
          "barpolar": [
           {
            "marker": {
             "line": {
              "color": "#E5ECF6",
              "width": 0.5
             },
             "pattern": {
              "fillmode": "overlay",
              "size": 10,
              "solidity": 0.2
             }
            },
            "type": "barpolar"
           }
          ],
          "carpet": [
           {
            "aaxis": {
             "endlinecolor": "#2a3f5f",
             "gridcolor": "white",
             "linecolor": "white",
             "minorgridcolor": "white",
             "startlinecolor": "#2a3f5f"
            },
            "baxis": {
             "endlinecolor": "#2a3f5f",
             "gridcolor": "white",
             "linecolor": "white",
             "minorgridcolor": "white",
             "startlinecolor": "#2a3f5f"
            },
            "type": "carpet"
           }
          ],
          "choropleth": [
           {
            "colorbar": {
             "outlinewidth": 0,
             "ticks": ""
            },
            "type": "choropleth"
           }
          ],
          "contour": [
           {
            "colorbar": {
             "outlinewidth": 0,
             "ticks": ""
            },
            "colorscale": [
             [
              0,
              "#0d0887"
             ],
             [
              0.1111111111111111,
              "#46039f"
             ],
             [
              0.2222222222222222,
              "#7201a8"
             ],
             [
              0.3333333333333333,
              "#9c179e"
             ],
             [
              0.4444444444444444,
              "#bd3786"
             ],
             [
              0.5555555555555556,
              "#d8576b"
             ],
             [
              0.6666666666666666,
              "#ed7953"
             ],
             [
              0.7777777777777778,
              "#fb9f3a"
             ],
             [
              0.8888888888888888,
              "#fdca26"
             ],
             [
              1,
              "#f0f921"
             ]
            ],
            "type": "contour"
           }
          ],
          "contourcarpet": [
           {
            "colorbar": {
             "outlinewidth": 0,
             "ticks": ""
            },
            "type": "contourcarpet"
           }
          ],
          "heatmap": [
           {
            "colorbar": {
             "outlinewidth": 0,
             "ticks": ""
            },
            "colorscale": [
             [
              0,
              "#0d0887"
             ],
             [
              0.1111111111111111,
              "#46039f"
             ],
             [
              0.2222222222222222,
              "#7201a8"
             ],
             [
              0.3333333333333333,
              "#9c179e"
             ],
             [
              0.4444444444444444,
              "#bd3786"
             ],
             [
              0.5555555555555556,
              "#d8576b"
             ],
             [
              0.6666666666666666,
              "#ed7953"
             ],
             [
              0.7777777777777778,
              "#fb9f3a"
             ],
             [
              0.8888888888888888,
              "#fdca26"
             ],
             [
              1,
              "#f0f921"
             ]
            ],
            "type": "heatmap"
           }
          ],
          "heatmapgl": [
           {
            "colorbar": {
             "outlinewidth": 0,
             "ticks": ""
            },
            "colorscale": [
             [
              0,
              "#0d0887"
             ],
             [
              0.1111111111111111,
              "#46039f"
             ],
             [
              0.2222222222222222,
              "#7201a8"
             ],
             [
              0.3333333333333333,
              "#9c179e"
             ],
             [
              0.4444444444444444,
              "#bd3786"
             ],
             [
              0.5555555555555556,
              "#d8576b"
             ],
             [
              0.6666666666666666,
              "#ed7953"
             ],
             [
              0.7777777777777778,
              "#fb9f3a"
             ],
             [
              0.8888888888888888,
              "#fdca26"
             ],
             [
              1,
              "#f0f921"
             ]
            ],
            "type": "heatmapgl"
           }
          ],
          "histogram": [
           {
            "marker": {
             "pattern": {
              "fillmode": "overlay",
              "size": 10,
              "solidity": 0.2
             }
            },
            "type": "histogram"
           }
          ],
          "histogram2d": [
           {
            "colorbar": {
             "outlinewidth": 0,
             "ticks": ""
            },
            "colorscale": [
             [
              0,
              "#0d0887"
             ],
             [
              0.1111111111111111,
              "#46039f"
             ],
             [
              0.2222222222222222,
              "#7201a8"
             ],
             [
              0.3333333333333333,
              "#9c179e"
             ],
             [
              0.4444444444444444,
              "#bd3786"
             ],
             [
              0.5555555555555556,
              "#d8576b"
             ],
             [
              0.6666666666666666,
              "#ed7953"
             ],
             [
              0.7777777777777778,
              "#fb9f3a"
             ],
             [
              0.8888888888888888,
              "#fdca26"
             ],
             [
              1,
              "#f0f921"
             ]
            ],
            "type": "histogram2d"
           }
          ],
          "histogram2dcontour": [
           {
            "colorbar": {
             "outlinewidth": 0,
             "ticks": ""
            },
            "colorscale": [
             [
              0,
              "#0d0887"
             ],
             [
              0.1111111111111111,
              "#46039f"
             ],
             [
              0.2222222222222222,
              "#7201a8"
             ],
             [
              0.3333333333333333,
              "#9c179e"
             ],
             [
              0.4444444444444444,
              "#bd3786"
             ],
             [
              0.5555555555555556,
              "#d8576b"
             ],
             [
              0.6666666666666666,
              "#ed7953"
             ],
             [
              0.7777777777777778,
              "#fb9f3a"
             ],
             [
              0.8888888888888888,
              "#fdca26"
             ],
             [
              1,
              "#f0f921"
             ]
            ],
            "type": "histogram2dcontour"
           }
          ],
          "mesh3d": [
           {
            "colorbar": {
             "outlinewidth": 0,
             "ticks": ""
            },
            "type": "mesh3d"
           }
          ],
          "parcoords": [
           {
            "line": {
             "colorbar": {
              "outlinewidth": 0,
              "ticks": ""
             }
            },
            "type": "parcoords"
           }
          ],
          "pie": [
           {
            "automargin": true,
            "type": "pie"
           }
          ],
          "scatter": [
           {
            "fillpattern": {
             "fillmode": "overlay",
             "size": 10,
             "solidity": 0.2
            },
            "type": "scatter"
           }
          ],
          "scatter3d": [
           {
            "line": {
             "colorbar": {
              "outlinewidth": 0,
              "ticks": ""
             }
            },
            "marker": {
             "colorbar": {
              "outlinewidth": 0,
              "ticks": ""
             }
            },
            "type": "scatter3d"
           }
          ],
          "scattercarpet": [
           {
            "marker": {
             "colorbar": {
              "outlinewidth": 0,
              "ticks": ""
             }
            },
            "type": "scattercarpet"
           }
          ],
          "scattergeo": [
           {
            "marker": {
             "colorbar": {
              "outlinewidth": 0,
              "ticks": ""
             }
            },
            "type": "scattergeo"
           }
          ],
          "scattergl": [
           {
            "marker": {
             "colorbar": {
              "outlinewidth": 0,
              "ticks": ""
             }
            },
            "type": "scattergl"
           }
          ],
          "scattermapbox": [
           {
            "marker": {
             "colorbar": {
              "outlinewidth": 0,
              "ticks": ""
             }
            },
            "type": "scattermapbox"
           }
          ],
          "scatterpolar": [
           {
            "marker": {
             "colorbar": {
              "outlinewidth": 0,
              "ticks": ""
             }
            },
            "type": "scatterpolar"
           }
          ],
          "scatterpolargl": [
           {
            "marker": {
             "colorbar": {
              "outlinewidth": 0,
              "ticks": ""
             }
            },
            "type": "scatterpolargl"
           }
          ],
          "scatterternary": [
           {
            "marker": {
             "colorbar": {
              "outlinewidth": 0,
              "ticks": ""
             }
            },
            "type": "scatterternary"
           }
          ],
          "surface": [
           {
            "colorbar": {
             "outlinewidth": 0,
             "ticks": ""
            },
            "colorscale": [
             [
              0,
              "#0d0887"
             ],
             [
              0.1111111111111111,
              "#46039f"
             ],
             [
              0.2222222222222222,
              "#7201a8"
             ],
             [
              0.3333333333333333,
              "#9c179e"
             ],
             [
              0.4444444444444444,
              "#bd3786"
             ],
             [
              0.5555555555555556,
              "#d8576b"
             ],
             [
              0.6666666666666666,
              "#ed7953"
             ],
             [
              0.7777777777777778,
              "#fb9f3a"
             ],
             [
              0.8888888888888888,
              "#fdca26"
             ],
             [
              1,
              "#f0f921"
             ]
            ],
            "type": "surface"
           }
          ],
          "table": [
           {
            "cells": {
             "fill": {
              "color": "#EBF0F8"
             },
             "line": {
              "color": "white"
             }
            },
            "header": {
             "fill": {
              "color": "#C8D4E3"
             },
             "line": {
              "color": "white"
             }
            },
            "type": "table"
           }
          ]
         },
         "layout": {
          "annotationdefaults": {
           "arrowcolor": "#2a3f5f",
           "arrowhead": 0,
           "arrowwidth": 1
          },
          "autotypenumbers": "strict",
          "coloraxis": {
           "colorbar": {
            "outlinewidth": 0,
            "ticks": ""
           }
          },
          "colorscale": {
           "diverging": [
            [
             0,
             "#8e0152"
            ],
            [
             0.1,
             "#c51b7d"
            ],
            [
             0.2,
             "#de77ae"
            ],
            [
             0.3,
             "#f1b6da"
            ],
            [
             0.4,
             "#fde0ef"
            ],
            [
             0.5,
             "#f7f7f7"
            ],
            [
             0.6,
             "#e6f5d0"
            ],
            [
             0.7,
             "#b8e186"
            ],
            [
             0.8,
             "#7fbc41"
            ],
            [
             0.9,
             "#4d9221"
            ],
            [
             1,
             "#276419"
            ]
           ],
           "sequential": [
            [
             0,
             "#0d0887"
            ],
            [
             0.1111111111111111,
             "#46039f"
            ],
            [
             0.2222222222222222,
             "#7201a8"
            ],
            [
             0.3333333333333333,
             "#9c179e"
            ],
            [
             0.4444444444444444,
             "#bd3786"
            ],
            [
             0.5555555555555556,
             "#d8576b"
            ],
            [
             0.6666666666666666,
             "#ed7953"
            ],
            [
             0.7777777777777778,
             "#fb9f3a"
            ],
            [
             0.8888888888888888,
             "#fdca26"
            ],
            [
             1,
             "#f0f921"
            ]
           ],
           "sequentialminus": [
            [
             0,
             "#0d0887"
            ],
            [
             0.1111111111111111,
             "#46039f"
            ],
            [
             0.2222222222222222,
             "#7201a8"
            ],
            [
             0.3333333333333333,
             "#9c179e"
            ],
            [
             0.4444444444444444,
             "#bd3786"
            ],
            [
             0.5555555555555556,
             "#d8576b"
            ],
            [
             0.6666666666666666,
             "#ed7953"
            ],
            [
             0.7777777777777778,
             "#fb9f3a"
            ],
            [
             0.8888888888888888,
             "#fdca26"
            ],
            [
             1,
             "#f0f921"
            ]
           ]
          },
          "colorway": [
           "#636efa",
           "#EF553B",
           "#00cc96",
           "#ab63fa",
           "#FFA15A",
           "#19d3f3",
           "#FF6692",
           "#B6E880",
           "#FF97FF",
           "#FECB52"
          ],
          "font": {
           "color": "#2a3f5f"
          },
          "geo": {
           "bgcolor": "white",
           "lakecolor": "white",
           "landcolor": "#E5ECF6",
           "showlakes": true,
           "showland": true,
           "subunitcolor": "white"
          },
          "hoverlabel": {
           "align": "left"
          },
          "hovermode": "closest",
          "mapbox": {
           "style": "light"
          },
          "paper_bgcolor": "white",
          "plot_bgcolor": "#E5ECF6",
          "polar": {
           "angularaxis": {
            "gridcolor": "white",
            "linecolor": "white",
            "ticks": ""
           },
           "bgcolor": "#E5ECF6",
           "radialaxis": {
            "gridcolor": "white",
            "linecolor": "white",
            "ticks": ""
           }
          },
          "scene": {
           "xaxis": {
            "backgroundcolor": "#E5ECF6",
            "gridcolor": "white",
            "gridwidth": 2,
            "linecolor": "white",
            "showbackground": true,
            "ticks": "",
            "zerolinecolor": "white"
           },
           "yaxis": {
            "backgroundcolor": "#E5ECF6",
            "gridcolor": "white",
            "gridwidth": 2,
            "linecolor": "white",
            "showbackground": true,
            "ticks": "",
            "zerolinecolor": "white"
           },
           "zaxis": {
            "backgroundcolor": "#E5ECF6",
            "gridcolor": "white",
            "gridwidth": 2,
            "linecolor": "white",
            "showbackground": true,
            "ticks": "",
            "zerolinecolor": "white"
           }
          },
          "shapedefaults": {
           "line": {
            "color": "#2a3f5f"
           }
          },
          "ternary": {
           "aaxis": {
            "gridcolor": "white",
            "linecolor": "white",
            "ticks": ""
           },
           "baxis": {
            "gridcolor": "white",
            "linecolor": "white",
            "ticks": ""
           },
           "bgcolor": "#E5ECF6",
           "caxis": {
            "gridcolor": "white",
            "linecolor": "white",
            "ticks": ""
           }
          },
          "title": {
           "x": 0.05
          },
          "xaxis": {
           "automargin": true,
           "gridcolor": "white",
           "linecolor": "white",
           "ticks": "",
           "title": {
            "standoff": 15
           },
           "zerolinecolor": "white",
           "zerolinewidth": 2
          },
          "yaxis": {
           "automargin": true,
           "gridcolor": "white",
           "linecolor": "white",
           "ticks": "",
           "title": {
            "standoff": 15
           },
           "zerolinecolor": "white",
           "zerolinewidth": 2
          }
         }
        },
        "width": 900,
        "xaxis": {
         "anchor": "y",
         "domain": [
          0,
          1
         ],
         "title": {}
        },
        "yaxis": {
         "anchor": "x",
         "domain": [
          0,
          1
         ],
         "range": [
          -0.02,
          1.02
         ],
         "title": {}
        }
       }
      }
     },
     "metadata": {},
     "output_type": "display_data"
    },
    {
     "name": "stdout",
     "output_type": "stream",
     "text": [
      "Excluded indicators (with less than 5 ratings): ['curve_x', 'priority_at_intersections', 'urban_environment', 'accidents_near_misses', 'social_encounters']\n",
      "Excluded indicators (manual filter): ['short_cuts', 'traffic_lights_or_stops']\n"
     ]
    }
   ],
   "source": [
    "# additionally filter out indicators which are out of scope (connectivity, intersections)\n",
    "manual_exclude = [\"short_cuts\", \"traffic_lights_or_stops\"]\n",
    "in_sel = list(ind_ws5.columns)\n",
    "for iname in manual_exclude:\n",
    "    in_sel.remove(iname)\n",
    "ind_sel = ind_workshop[in_sel]\n",
    "\n",
    "# sort by response count and indicator name\n",
    "#cols = pd.DataFrame(ind_sel.count(), columns=[\"n\"])\n",
    "#cols[\"colname\"] = cols.index\n",
    "#cols = cols.sort_values(by=[\"n\", \"colname\"], ascending=[False, True])\n",
    "#ind_sel = ind_workshop[cols.index]\n",
    "\n",
    "# sort by median rating\n",
    "ind_sel = ind_workshop[ind_sel.median().sort_values(ascending=False).index]\n",
    "\n",
    "# plot\n",
    "plot = ind_sel.boxplot(points=\"all\", title=\"Workshop: Indicator importance (filtered)\" if plot_title else None)\n",
    "plot.update_layout(width=900, height=500, \n",
    "                   yaxis=dict(range=[-0.02,1.02], title=\"importance\" if plot_yAxTitle else None), \n",
    "                   xaxis=dict(title=None),\n",
    "                   margin=dict(t=15, l=10, r=10, b=100)\n",
    ")\n",
    "plot.update_traces(marker_color=\"#15459C\", line_width=1, marker_size=2)\n",
    "plot.add_scatter(name=\"bikeability\", y=ind_netascore_norm, x=ind_netascore_norm.index, marker_size=30, line_color=\"#EB0F09\", showlegend=False, mode=\"markers\", marker_symbol=\"line-ew-open\")\n",
    "for indicator in ind_sel.columns:\n",
    "    plot.add_annotation(x=indicator, y=1, yshift = 15, showarrow = False,\n",
    "                        text = f\"n={ind_sel[indicator].count()}\")\n",
    "plot.show()\n",
    "if export_html: plot.write_html(os.path.join(output_dir, \"indicators_sel.html\"))\n",
    "if export_png: plot.write_image(os.path.join(output_dir, \"indicators_sel.png\"), scale=6)\n",
    "if export_svg: plot.write_image(os.path.join(output_dir, \"indicators_sel.svg\"))\n",
    "if export_pdf: plot.write_image(os.path.join(output_dir, \"indicators_sel.pdf\"))\n",
    "print(f\"Excluded indicators (with less than 5 ratings): {ind_workshop.loc[:,ind_workshop.count()<5].columns.to_list()}\")\n",
    "print(f\"Excluded indicators (manual filter): {manual_exclude}\")"
   ]
  },
  {
   "cell_type": "code",
   "execution_count": 8,
   "metadata": {},
   "outputs": [
    {
     "data": {
      "text/plain": [
       "safe_parking_night         7\n",
       "bicycle_infrastructure    18\n",
       "car_traffic_volume        16\n",
       "max_speed                 15\n",
       "lighting                  16\n",
       "pavement                  18\n",
       "width_cycle_together      18\n",
       "gradient                  17\n",
       "tram_tracks                8\n",
       "natural_environment       17\n",
       "designated_route          17\n",
       "car_parking               12\n",
       "road_category             13\n",
       "dtype: int64"
      ]
     },
     "execution_count": 8,
     "metadata": {},
     "output_type": "execute_result"
    }
   ],
   "source": [
    "ind_sel.count()"
   ]
  },
  {
   "cell_type": "code",
   "execution_count": 9,
   "metadata": {},
   "outputs": [
    {
     "data": {
      "text/plain": [
       "safe_parking_night        0.930\n",
       "bicycle_infrastructure    0.885\n",
       "car_traffic_volume        0.870\n",
       "max_speed                 0.800\n",
       "lighting                  0.710\n",
       "pavement                  0.700\n",
       "width_cycle_together      0.680\n",
       "gradient                  0.660\n",
       "tram_tracks               0.630\n",
       "natural_environment       0.610\n",
       "designated_route          0.500\n",
       "car_parking               0.475\n",
       "road_category             0.270\n",
       "dtype: float64"
      ]
     },
     "execution_count": 9,
     "metadata": {},
     "output_type": "execute_result"
    }
   ],
   "source": [
    "ind_sel.median().sort_values(ascending=False)"
   ]
  }
 ],
 "metadata": {
  "kernelspec": {
   "display_name": "da",
   "language": "python",
   "name": "python3"
  },
  "language_info": {
   "codemirror_mode": {
    "name": "ipython",
    "version": 3
   },
   "file_extension": ".py",
   "mimetype": "text/x-python",
   "name": "python",
   "nbconvert_exporter": "python",
   "pygments_lexer": "ipython3",
   "version": "3.10.13"
  }
 },
 "nbformat": 4,
 "nbformat_minor": 2
}
