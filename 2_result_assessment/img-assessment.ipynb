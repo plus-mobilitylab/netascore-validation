{
 "cells": [
  {
   "cell_type": "code",
   "execution_count": null,
   "metadata": {},
   "outputs": [],
   "source": [
    "import geopandas as gpd\n",
    "import pandas as pd\n",
    "import numpy as np\n",
    "import plotly.express as px\n",
    "import plotly.graph_objects as go\n",
    "import os\n",
    "\n",
    "### SETTINGS ###\n",
    "base_dir = os.path.join(\"..\", \"..\", \"..\")\n",
    "f_samples_sbg = os.path.join(base_dir, \"2_data\", \"2_image_sampling\", \"salzburg_sample.gpkg\")\n",
    "f_samples_wup = os.path.join(base_dir, \"2_data\", \"2_image_sampling\", \"wuppertal_sample.gpkg\")\n",
    "output_dir = \"output\"\n",
    "image_dir = os.path.join(base_dir, \"3_images\")\n",
    "f_ratings_workshop = os.path.join(base_dir, \"4_results\", \"2_img_workshop.csv\")\n",
    "f_ratings_arena = os.path.join(base_dir, \"4_results\", \"3_img_conference-arena.csv\")\n",
    "f_survey = os.path.join(base_dir, \"4_results\", \"1_online_survey.csv\")\n",
    "# mapping of images used in the conference workshop to sample IDs\n",
    "image_mapping_a = [\"img_1\", \"img_2\", \"img_3\", \"img_4\", \"img_5\"]\n",
    "image_mapping_b = [\"wuppertal1i18\", \"wuppertal2i23\", \"wuppertal3i5\", \"wuppertal4i25\", \"wuppertal5i6\"]\n",
    "\n",
    "### plot / export settings\n",
    "export_png = False\n",
    "export_html = False\n",
    "export_svg = False\n",
    "export_pdf = True\n",
    "show_title = False\n",
    "show_ba_lab = False\n",
    "detail_plot_all = False # individual plot per image (for all or high response rate)\n",
    "\n",
    "### library settings ###\n",
    "pd.options.plotting.backend = \"plotly\"\n",
    "\n",
    "### SAMPLING DATA (with bikeability index and geometry of road segments) ###\n",
    "samples_sbg = gpd.read_file(f_samples_sbg)\n",
    "samples_wup = gpd.read_file(f_samples_wup)\n",
    "print(\"Salzburg:\", len(samples_sbg), \"samples, Wuppertal:\", len(samples_wup), \"samples\")\n",
    "samples = samples_wup.append(samples_sbg)\n",
    "\n",
    "### BIKEABILITY IMAGE RATINGS ###\n",
    "def rename_cols(input_name):\n",
    "    i = image_mapping_a.index(input_name)\n",
    "    if i < 0:\n",
    "        raise Exception(\"Unknown mapping for input column \" + input_name)\n",
    "    return image_mapping_b[i]\n",
    "ratings_workshop = pd.read_csv(f_ratings_workshop, sep=\";\", decimal=\",\").rename(columns=rename_cols)\n",
    "ratings_arena = pd.read_csv(f_ratings_arena, sep=\";\", decimal=\",\").rename(columns=rename_cols)\n",
    "ratings_conf_full = ratings_workshop.append(ratings_arena)\n",
    "display(ratings_workshop)\n",
    "display(ratings_arena)\n",
    "\n",
    "### SURVEY ###\n",
    "survey = pd.read_csv(f_survey, sep=\";\", decimal=\",\")\n",
    "slen = len(survey)\n",
    "# filter survey for submitted responses\n",
    "survey = survey[survey.lastpage == 7]\n",
    "ssublen = len(survey)\n",
    "display(f\"{slen} survey hits and {ssublen} submitted answers. Response rate: {ssublen/slen:.1%}\")\n",
    "\n",
    "if not os.path.exists(output_dir):\n",
    "    os.makedirs(output_dir)"
   ]
  },
  {
   "cell_type": "markdown",
   "metadata": {},
   "source": [
    "## Survey - introduction"
   ]
  },
  {
   "cell_type": "code",
   "execution_count": null,
   "metadata": {},
   "outputs": [],
   "source": [
    "display(survey.cyclist_type.hist())\n",
    "vc = survey.cyclist_type.value_counts()\n",
    "print(\"Type of cyclist [%]\")\n",
    "print(vc/ssublen*100)"
   ]
  },
  {
   "cell_type": "code",
   "execution_count": null,
   "metadata": {},
   "outputs": [],
   "source": [
    "display(survey.country.sort_values().hist())\n",
    "vc = survey.country.value_counts()\n",
    "print(\"Country of residence [%]\")\n",
    "print(vc/ssublen*100)"
   ]
  },
  {
   "cell_type": "code",
   "execution_count": null,
   "metadata": {},
   "outputs": [],
   "source": [
    "display(survey.gender.hist())\n",
    "vc = survey.gender.value_counts()\n",
    "print(\"Gender [%]\")\n",
    "print(vc/ssublen*100)"
   ]
  },
  {
   "cell_type": "code",
   "execution_count": null,
   "metadata": {},
   "outputs": [],
   "source": [
    "# extract sample IDs of images used in the survey\n",
    "survey_cols = survey.columns.to_list()\n",
    "survey_sampleIDs = []\n",
    "for c in survey_cols:\n",
    "    if c.startswith(\"salzburg\") or c.startswith(\"wuppertal\"):\n",
    "        if c.endswith(\"Time\"):\n",
    "            continue\n",
    "        survey_sampleIDs.append(c)\n",
    "print(len(survey_sampleIDs), \"samples available in survey\")\n",
    "samples_sel = samples.set_index(\"sample_id\")\n",
    "samples_sel = samples_sel.loc[survey_sampleIDs]\n",
    "bikeability = samples_sel[\"index\"].sort_values()\n",
    "bikeability_class = (bikeability*10/2).apply(np.ceil).apply(int)\n",
    "ratings_survey = survey[survey_sampleIDs]\n",
    "ratings_survey"
   ]
  },
  {
   "cell_type": "code",
   "execution_count": null,
   "metadata": {},
   "outputs": [],
   "source": [
    "s_survey = ratings_survey.describe().T\n",
    "s_survey[\"bikeability\"] = bikeability\n",
    "s_survey.head()"
   ]
  },
  {
   "cell_type": "code",
   "execution_count": null,
   "metadata": {},
   "outputs": [],
   "source": [
    "s_workshop = ratings_workshop.describe().T\n",
    "s_workshop[\"bikeability\"] = bikeability\n",
    "s_workshop"
   ]
  },
  {
   "cell_type": "code",
   "execution_count": null,
   "metadata": {},
   "outputs": [],
   "source": [
    "s_arena = ratings_arena.describe().T\n",
    "s_arena[\"bikeability\"] = bikeability\n",
    "s_arena"
   ]
  },
  {
   "cell_type": "code",
   "execution_count": null,
   "metadata": {},
   "outputs": [],
   "source": [
    "\n",
    "def def_max_dev(val):\n",
    "    if val < 0.5:\n",
    "        return 1 - val\n",
    "    return val\n",
    "\n",
    "def comp_mad_median(col):\n",
    "    t_median = col.quantile(0.5)\n",
    "    delta = (col - t_median).abs()\n",
    "    return delta.mean()\n",
    "    \n",
    "def generate_rating_stats(input_data, title):\n",
    "    sdf = input_data.describe().T\n",
    "    # add interquartile range, interquantile range (iqr), and mean of absolute deviation (based on mean)\n",
    "    sdf[\"10%\"] = input_data.quantile(0.1)\n",
    "    sdf[\"1/6\"] = input_data.quantile(1/6)\n",
    "    sdf[\"5/6\"] = input_data.quantile(5/6)\n",
    "    sdf[\"90%\"] = input_data.quantile(0.9)\n",
    "    sdf[\"mad\"] = input_data.mad(axis=0, skipna=True) # MAD based on mean\n",
    "    sdf[\"mad_median\"] = input_data.apply(comp_mad_median) # MAD based on median\n",
    "    sdf[\"iqr\"] = sdf[\"75%\"] - sdf[\"25%\"]\n",
    "    sdf[\"iquantr\"] = sdf[\"90%\"] - sdf[\"10%\"]\n",
    "    sdf[\"iquantr6\"] = sdf[\"5/6\"] - sdf[\"1/6\"]\n",
    "    \n",
    "    # add bikeability and deviation metrics relative to bikeability\n",
    "    sdf[\"bikeability\"] = bikeability\n",
    "    sdf[\"delta_mean\"] = sdf.bikeability - sdf[\"mean\"]\n",
    "    sdf[\"delta_median\"] = sdf.bikeability - sdf[\"50%\"]\n",
    "    sdf[\"z_score\"] = sdf.delta_mean / sdf[\"std\"]\n",
    "    sdf = sdf.sort_values(\"bikeability\")\n",
    "    \n",
    "    # add boolean indication for whether bike index is within stat. disp. range...\n",
    "    sdf[\"in_std\"] = sdf[\"std\"] >= sdf.delta_mean.abs()\n",
    "    sdf[\"in_2std\"] = sdf[\"std\"]*2 >= sdf.delta_mean.abs()\n",
    "    sdf[\"in_3std\"] = sdf[\"std\"]*3 >= sdf.delta_mean.abs()\n",
    "    sdf[\"in_mad\"] = sdf[\"mad\"] >= sdf.delta_mean.abs()\n",
    "    sdf[\"in_mad_median\"] = sdf[\"mad_median\"] >= sdf.delta_median.abs()\n",
    "    sdf[\"in_iqr\"] = (sdf.bikeability <= sdf[\"75%\"]) & (sdf.bikeability >= sdf[\"25%\"])\n",
    "    sdf[\"in_iquantr\"] = (sdf.bikeability <= sdf[\"90%\"]) & (sdf.bikeability >= sdf[\"10%\"])\n",
    "    sdf[\"in_iquantr6\"] = (sdf.bikeability <= sdf[\"5/6\"]) & (sdf.bikeability >= sdf[\"1/6\"])\n",
    "    \n",
    "    # compute absolute difference between each rating and computed bikeability\n",
    "    cols = bikeability[input_data.columns].sort_values(ascending=True).index\n",
    "    abs_dif = input_data[cols] - bikeability[cols]\n",
    "    \n",
    "    plot = abs_dif.boxplot(points=\"all\", title=f\"Absolute differences: {title}\")\n",
    "    plot.update_traces(marker_color=\"#15459C\", line_width=1, marker_size=2)\n",
    "    display(plot)\n",
    "    print(\"absolute differences\")\n",
    "    display(abs_dif.describe())\n",
    "    \n",
    "    plot = abs(abs_dif).boxplot(points=\"all\", title=f\"|Absolute differences|: {title}\")\n",
    "    plot.update_traces(marker_color=\"#15459C\", line_width=1, marker_size=2)\n",
    "    display(plot)\n",
    "    print(\"|absolute differences|\")\n",
    "    display(abs(abs_dif).describe())\n",
    "    \n",
    "    n_all = len(sdf)\n",
    "    n_sd05 = sum(sdf.z_score.abs()<0.5)\n",
    "    n_sd1 = sum(sdf.z_score.abs()<1)\n",
    "    n_sd15 = sum(sdf.z_score.abs()<1.5)\n",
    "    n_sd2 = sum(sdf.z_score.abs()<2)\n",
    "    print(f\"\"\"Within \\t+/- 1 sd: {n_sd1}/{n_all} = {n_sd1/n_all:.1%} \n",
    "      \\n\\t+/- 0.5 sd: {n_sd05/n_all:.1%} \n",
    "      \\t+/- 1 sd: {n_sd1/n_all:.1%}\n",
    "      \\t+/- 1.5 sd: {n_sd15/n_all:.1%}\n",
    "      \\t+/- 2 sd: {n_sd2/n_all:.1%}\"\"\")\n",
    "    \n",
    "    # add bikeability class columns (for bike index, median rating and mean rating)\n",
    "    sdf[\"bikeability_class\"] = (sdf.bikeability*5).apply(np.ceil).apply(int)\n",
    "    sdf[\"median_rating_ba_class\"] = (sdf[\"50%\"]*5).apply(np.ceil).apply(int)\n",
    "    sdf[\"mean_rating_ba_class\"] = (sdf[\"mean\"]*5).apply(np.ceil).apply(int)\n",
    "    sdf.bikeability_class.replace(0,1, inplace=True)\n",
    "    sdf.median_rating_ba_class.replace(0,1, inplace=True)\n",
    "    sdf.mean_rating_ba_class.replace(0,1, inplace=True)\n",
    "    \n",
    "    # difference in bikeability class (ratings vs. NetAScore bike index)\n",
    "    sdf[\"d_bac_median\"] = sdf.bikeability_class - sdf.median_rating_ba_class\n",
    "    sdf[\"d_bac_mean\"] = sdf.bikeability_class - sdf.mean_rating_ba_class\n",
    "    \n",
    "    # additional classes: binary and 3 classes of bikeability\n",
    "    sdf[\"bac_2_bikeability\"] = (sdf.bikeability*2).apply(np.ceil).apply(int)\n",
    "    sdf[\"bac_2_median_rating\"] = (sdf[\"50%\"]*2).apply(np.ceil).apply(int)\n",
    "    sdf[\"bac_2_mean_rating\"] = (sdf[\"mean\"]*2).apply(np.ceil).apply(int)\n",
    "    sdf.bac_2_bikeability.replace(0,1, inplace=True)\n",
    "    sdf.bac_2_median_rating.replace(0,1, inplace=True)\n",
    "    sdf.bac_2_mean_rating.replace(0,1, inplace=True)\n",
    "    sdf[\"d_bac_2_median\"] = sdf.bac_2_bikeability - sdf.bac_2_median_rating\n",
    "    sdf[\"d_bac_2_mean\"] = sdf.bac_2_bikeability - sdf.bac_2_mean_rating\n",
    "    \n",
    "    sdf[\"bac_3_bikeability\"] = (sdf.bikeability*3).apply(np.ceil).apply(int)\n",
    "    sdf[\"bac_3_median_rating\"] = (sdf[\"50%\"]*3).apply(np.ceil).apply(int)\n",
    "    sdf[\"bac_3_mean_rating\"] = (sdf[\"mean\"]*3).apply(np.ceil).apply(int)\n",
    "    sdf.bac_3_bikeability.replace(0,1, inplace=True)\n",
    "    sdf.bac_3_median_rating.replace(0,1, inplace=True)\n",
    "    sdf.bac_3_mean_rating.replace(0,1, inplace=True)\n",
    "    sdf[\"d_bac_3_median\"] = sdf.bac_3_bikeability - sdf.bac_3_median_rating\n",
    "    sdf[\"d_bac_3_mean\"] = sdf.bac_3_bikeability - sdf.bac_3_mean_rating\n",
    "    \n",
    "    #display(sdf.d_bac_median.hist())\n",
    "    #display(sdf.d_bac_2_median.hist())\n",
    "    #display(sdf.d_bac_3_median.hist())\n",
    "    \n",
    "    # summary for bikeability classes - here only considering median\n",
    "    def summarize_bac_stats(bac_diff):\n",
    "        matched = 0\n",
    "        max_1 = 0\n",
    "        less = 0\n",
    "        more = 0\n",
    "        greater_1 = 0\n",
    "        total = 0\n",
    "        for k, v in bac_diff.value_counts().items():\n",
    "            total += v\n",
    "            if k < 0:\n",
    "                less += v\n",
    "            elif k > 0:\n",
    "                more += v\n",
    "            else:\n",
    "                matched += v\n",
    "            if abs(k) > 1:\n",
    "                greater_1 += v\n",
    "            elif abs(k) > 0:\n",
    "                max_1 += v    \n",
    "        print(f\"Out of {total} in total, {matched} are matched; {max_1} within +/- 1; {greater_1} outside +/- 1; {less} below and {more} higher than rated\")\n",
    "        print(f\"Out of {total} in total, {matched/total:.1%} are matched; {max_1/total:.1%} within +/- 1; {greater_1/total:.1%} outside +/- 1; {less/total:.1%} below and {more/total:.1%} higher than rated\")\n",
    "    \n",
    "    print(\"Differences in bikeability classes:\")\n",
    "    print(sdf.d_bac_median.value_counts())\n",
    "    summarize_bac_stats(sdf.d_bac_median)\n",
    "    print(\"...for binary classification (bikeable / unbikeable):\")\n",
    "    summarize_bac_stats(sdf.d_bac_2_median)\n",
    "    print(\"...and for 3-class classification (bikeable / medium / unbikeable):\")\n",
    "    summarize_bac_stats(sdf.d_bac_3_median)\n",
    "    \n",
    "    # plot statistical dispersion metrics\n",
    "    plot = sdf[[\"iqr\", \"iquantr\", \"iquantr6\", \"mad\", \"mad_median\", \"std\"]].boxplot(points=\"all\", title=f\"Statistical dispersion: {title}\")\n",
    "    plot.update_traces(marker_color=\"#15459C\", line_width=1, marker_size=2)\n",
    "    display(plot)\n",
    "    \n",
    "    \n",
    "    # show summary\n",
    "    print(f\"Summary statistics for {title}\")\n",
    "    display(sdf)\n",
    "    \n",
    "    # summarize across images/samples\n",
    "    n_sample = len(sdf)\n",
    "    print(f\"\\nmedian of bikeability ratings:\")\n",
    "    print(sdf[\"50%\"].describe())\n",
    "    print(\"Share of samples (images) per bikeability class (based on median rating) [%]:\")\n",
    "    print(sdf.median_rating_ba_class.value_counts()/n_sample*100)\n",
    "    # statistical dispersion\n",
    "    def summarize_dispersion(data, title):\n",
    "        print(f\"\\nStatistical dispersion of image ratings ({title}):\")\n",
    "        print(f\"stdev: {data['std'].mean():.2f}\")\n",
    "        print(f\"MAD (mean-based): {data['mad'].mean():.2f}\")\n",
    "        print(f\"MAD (median-based): {data['mad_median'].mean():.2f}\")\n",
    "        print(f\"IQR (0.25; 0.75): {data['iqr'].mean():.2f}\")\n",
    "        print(f\"Interdecile range (0.1; 0.9): {data['iquantr'].mean():.2f}\")\n",
    "\n",
    "    summarize_dispersion(sdf, \"full sample\")\n",
    "    summarize_dispersion(sdf[sdf.bikeability_class==1], \"bikeability class 1\")\n",
    "    summarize_dispersion(sdf[sdf.bikeability_class==2], \"bikeability class 2\")\n",
    "    summarize_dispersion(sdf[sdf.bikeability_class==3], \"bikeability class 3\")\n",
    "    summarize_dispersion(sdf[sdf.bikeability_class==4], \"bikeability class 4\")\n",
    "    summarize_dispersion(sdf[sdf.bikeability_class==5], \"bikeability class 5\")\n",
    "    \n",
    "    \n",
    "    # advanced summary\n",
    "    print(f\"\\nSummary statistics across all {n_sample} images/samples in relation to bike index for: {title}\")\n",
    "    print(f\"Mean Absolute Error (median rating vs. modeled bikeability): {sdf.delta_median.abs().sum()/len(sdf):.2f}\")\n",
    "    print(f\"RMSE (median rating vs. modeled bikeability): {(sdf.delta_median ** 2).mean() ** 0.5 :.2f}\\n\")\n",
    "    print(f\"z-score: {sdf.z_score.describe()}\")\n",
    "    c_in_std = sdf.in_std.sum() / n_sample\n",
    "    c_in_2std = sdf.in_2std.sum() / n_sample\n",
    "    c_in_3std = sdf.in_3std.sum() / n_sample\n",
    "    c_in_mad = sdf.in_mad.sum() / n_sample\n",
    "    c_in_mad_median = sdf.in_mad_median.sum() / n_sample\n",
    "    c_in_iqr = sdf.in_iqr.sum() / n_sample\n",
    "    c_in_iquantr = sdf.in_iquantr.sum() / n_sample\n",
    "    c_in_iquantr6 = sdf.in_iquantr6.sum() / n_sample\n",
    "    print(f\"Share of images/samples within...\\n  stdev:\\t{c_in_std:.1%}\\n  2 x stdev:\\t{c_in_2std:.1%}\\n  3 x stdev:\\t{c_in_3std:.1%}\\n  MAD (mean):\\t{c_in_mad:.1%}\\n \\tMAD (median):\\t{c_in_mad_median:.1%}\")\n",
    "    print(f\"  IQR:\\t{c_in_iqr:.1%}\\n  Inter quantile range (.1;.9):\\t{c_in_iquantr:.1%}\\n  Inter quantile range (1/6;5/6):\\t{c_in_iquantr6:.1%}\")\n",
    "    \n",
    "    return sdf\n",
    "\n",
    "sdf = generate_rating_stats(ratings_conf_full, title=\"conference (workshop and arena)\")"
   ]
  },
  {
   "cell_type": "code",
   "execution_count": null,
   "metadata": {},
   "outputs": [],
   "source": [
    "# plotting function\n",
    "import PIL as pil\n",
    "def plot_ws_img_results(data, title, img_ids):\n",
    "    plot = data[img_ids].boxplot(title=title if show_title else None, points=\"all\")\n",
    "    plot.update_layout(\n",
    "        autosize=False,\n",
    "        width=700,\n",
    "        height=500,\n",
    "        margin=dict(t=55 if show_title else 15, l=80 if show_ba_lab else 10, r=30 if show_ba_lab else 10, b=120 if show_title else 110),\n",
    "        yaxis=dict(title=\"bikeability\" if show_ba_lab else None),\n",
    "        xaxis=dict(title=\"\")\n",
    "    )\n",
    "    plot.update_traces(marker_color=\"#15459C\", line_width=1, marker_size=2)\n",
    "    for imgID in img_ids:\n",
    "        plot.add_layout_image(\n",
    "            dict(\n",
    "                source=pil.Image.open(f\"{image_dir}/{imgID}.jpg\"),\n",
    "                x=imgID,\n",
    "                xref=\"x\",\n",
    "                yref=\"paper\",\n",
    "                y=-0.08 if show_title else -0.06,\n",
    "                sizex=0.8,\n",
    "                sizey=0.25,\n",
    "                sizing=\"contain\",\n",
    "                xanchor=\"center\",\n",
    "                yanchor=\"top\"\n",
    "            )\n",
    "        )\n",
    "    display(plot.add_scatter(name=\"bikeability\", y=bikeability[img_ids], x=img_ids, marker_size=60, line_color=\"#EB0F09\", showlegend=False, mode=\"markers\", marker_symbol=\"line-ew-open\"))\n",
    "    if export_html: plot.write_html(os.path.join(output_dir, f\"{title}.html\"))\n",
    "    if export_png: plot.write_image(os.path.join(output_dir, f\"{title}.png\"), scale=4)\n",
    "    if export_svg: plot.write_image(os.path.join(output_dir, f\"{title}.svg\"))\n",
    "    if export_pdf: plot.write_image(os.path.join(output_dir, f\"{title}.pdf\"))"
   ]
  },
  {
   "cell_type": "code",
   "execution_count": null,
   "metadata": {},
   "outputs": [],
   "source": [
    "plot_ws_img_results(ratings_workshop, \"Bikeability ratings: conference workshop\", image_mapping_b)"
   ]
  },
  {
   "cell_type": "code",
   "execution_count": null,
   "metadata": {},
   "outputs": [],
   "source": [
    "plot_ws_img_results(ratings_arena, \"Bikeability ratings: conference arena\", image_mapping_b)"
   ]
  },
  {
   "cell_type": "code",
   "execution_count": null,
   "metadata": {},
   "outputs": [],
   "source": [
    "plot_ws_img_results(ratings_conf_full, \"Bikeability ratings: conference (workshop and arena)\", image_mapping_b)"
   ]
  },
  {
   "cell_type": "code",
   "execution_count": null,
   "metadata": {},
   "outputs": [],
   "source": [
    "plot_ws_img_results(ratings_survey[image_mapping_b]/100, \"Bikeability ratings: survey\", image_mapping_b)"
   ]
  },
  {
   "cell_type": "code",
   "execution_count": null,
   "metadata": {},
   "outputs": [],
   "source": [
    "survey_topResponseRate = ratings_survey.count().sort_values(ascending=False)\n",
    "s_top5 = survey_topResponseRate.head(5).index\n",
    "s_top5 = bikeability[s_top5].sort_values().index\n",
    "plot_ws_img_results(ratings_survey/100, \"Bikeability ratings: survey - Top 5 response rate\", s_top5)"
   ]
  },
  {
   "cell_type": "code",
   "execution_count": null,
   "metadata": {},
   "outputs": [],
   "source": [
    "s_next5 = survey_topResponseRate[5:10].index\n",
    "s_next5 = bikeability[s_next5].sort_values().index\n",
    "plot_ws_img_results(ratings_survey/100, \"Bikeability ratings: survey - Next 5 (6-10) by response rate\", s_next5)"
   ]
  },
  {
   "cell_type": "code",
   "execution_count": null,
   "metadata": {},
   "outputs": [],
   "source": [
    "s_next5b = survey_topResponseRate[10:15].index\n",
    "s_next5b = bikeability[s_next5b].sort_values().index\n",
    "plot_ws_img_results(ratings_survey/100, \"Bikeability ratings: survey - Next 5 (11-15) by response rate\", s_next5b)"
   ]
  },
  {
   "cell_type": "code",
   "execution_count": null,
   "metadata": {},
   "outputs": [],
   "source": [
    "s_next5c = survey_topResponseRate[15:20].index\n",
    "s_next5c = bikeability[s_next5c].sort_values().index\n",
    "plot_ws_img_results(ratings_survey/100, \"Bikeability ratings: survey - Next 5 (16-20) by response rate\", s_next5c)"
   ]
  },
  {
   "cell_type": "code",
   "execution_count": null,
   "metadata": {},
   "outputs": [],
   "source": [
    "# TOP 5 by bikeabilty class\n",
    "s_bc1 = survey_topResponseRate[bikeability_class[bikeability_class == 1].index].sort_values(ascending=False).head(5).index\n",
    "plot_ws_img_results(ratings_survey/100, \"Bikeability ratings: survey - bikeability class 1 - Top response rate\", s_bc1)"
   ]
  },
  {
   "cell_type": "code",
   "execution_count": null,
   "metadata": {},
   "outputs": [],
   "source": [
    "s_bc2 = survey_topResponseRate[bikeability_class[bikeability_class == 2].index].sort_values(ascending=False).head(5).index\n",
    "plot_ws_img_results(ratings_survey/100, \"Bikeability ratings: survey - bikeability class 2 - Top response rate\", s_bc2)"
   ]
  },
  {
   "cell_type": "code",
   "execution_count": null,
   "metadata": {},
   "outputs": [],
   "source": [
    "s_bc3 = survey_topResponseRate[bikeability_class[bikeability_class == 3].index].sort_values(ascending=False).head(5).index\n",
    "plot_ws_img_results(ratings_survey/100, \"Bikeability ratings: survey - bikeability class 3 - Top response rate\", s_bc3)"
   ]
  },
  {
   "cell_type": "code",
   "execution_count": null,
   "metadata": {},
   "outputs": [],
   "source": [
    "s_bc4 = survey_topResponseRate[bikeability_class[bikeability_class == 4].index].sort_values(ascending=False).head(5).index\n",
    "plot_ws_img_results(ratings_survey/100, \"Bikeability ratings: survey - bikeability class 4 - Top response rate\", s_bc4)"
   ]
  },
  {
   "cell_type": "code",
   "execution_count": null,
   "metadata": {},
   "outputs": [],
   "source": [
    "s_bc5 = survey_topResponseRate[bikeability_class[bikeability_class == 5].index].sort_values(ascending=False).head(5).index\n",
    "plot_ws_img_results(ratings_survey/100, \"Bikeability ratings: survey - bikeability class 5 - Top response rate\", s_bc5)"
   ]
  },
  {
   "cell_type": "code",
   "execution_count": null,
   "metadata": {},
   "outputs": [],
   "source": [
    "sdf_survey_full = generate_rating_stats(ratings_survey/100, title=\"survey\")"
   ]
  },
  {
   "cell_type": "code",
   "execution_count": null,
   "metadata": {},
   "outputs": [],
   "source": [
    "# by response variability\n",
    "i_rv_l = sdf_survey_full[\"iqr\"].sort_values().head(5).index\n",
    "plot_ws_img_results(ratings_survey/100, \"Bikeability ratings: survey - lowest response variability\", i_rv_l)"
   ]
  },
  {
   "cell_type": "code",
   "execution_count": null,
   "metadata": {},
   "outputs": [],
   "source": [
    "i_rv_h = sdf_survey_full[\"iqr\"].sort_values(ascending=False).head(5).index\n",
    "plot_ws_img_results(ratings_survey/100, \"Bikeability ratings: survey - highest response variability\", i_rv_h)\n"
   ]
  },
  {
   "cell_type": "code",
   "execution_count": null,
   "metadata": {},
   "outputs": [],
   "source": [
    "# 5 top matched (estimated vs. median rating; based on z-score)\n",
    "i_zscore_l = sdf_survey_full.z_score.abs().sort_values().head(5).index\n",
    "plot_ws_img_results(ratings_survey/100, \"Bikeability ratings: survey - lowest absolute z-score\", i_zscore_l)"
   ]
  },
  {
   "cell_type": "code",
   "execution_count": null,
   "metadata": {},
   "outputs": [],
   "source": [
    "# 5 most disagreed (estimated vs. median rating; based on z-score)\n",
    "i_zscore_h = sdf_survey_full.z_score.abs().sort_values(ascending=False).head(5).index\n",
    "plot_ws_img_results(ratings_survey/100, \"Bikeability ratings: survey - highest absolute z-score\", i_zscore_h)"
   ]
  },
  {
   "cell_type": "code",
   "execution_count": null,
   "metadata": {},
   "outputs": [],
   "source": [
    "# 5 best fit (estimated vs. median rating; based on absolute deviation)\n",
    "i_absdev_l = sdf_survey_full.delta_median.abs().sort_values(ascending=True).head(5).index\n",
    "plot_ws_img_results(ratings_survey/100, \"Bikeability ratings: survey - lowest absolute deviation\", i_absdev_l)"
   ]
  },
  {
   "cell_type": "code",
   "execution_count": null,
   "metadata": {},
   "outputs": [],
   "source": [
    "# 5 most disagreed (estimated vs. median rating; based on absolute deviation)\n",
    "i_absdev_h = sdf_survey_full.delta_median.abs().sort_values(ascending=False).head(5).index\n",
    "plot_ws_img_results(ratings_survey/100, \"Bikeability ratings: survey - highest absolute deviation\", i_absdev_h)"
   ]
  },
  {
   "cell_type": "code",
   "execution_count": null,
   "metadata": {},
   "outputs": [],
   "source": [
    "# order columns by bikeability index (ascending, was sorted beforehand)\n",
    "plot = (ratings_survey / 100).reindex(bikeability.index, axis=1).boxplot(title=\"Survey ratings (all samples)\" if show_title else None)\n",
    "plot.update_layout(\n",
    "    width=1200, height=500,\n",
    "    xaxis=dict(title=\"\"), yaxis=dict(title=\"bikeability\" if show_ba_lab else None),\n",
    "    margin=dict(t=55 if show_title else 15, l=80 if show_ba_lab else 10, r=30 if show_ba_lab else 10, b=120 if show_title else 110)\n",
    ")\n",
    "plot.update_traces(marker_color=\"#15459C\", line_width=1, marker_size=2)\n",
    "display(plot.add_scatter(name=\"bikeability\", y=bikeability, x=bikeability.index, marker_size=10, line_color=\"#EB0F09\", showlegend=False, mode=\"markers\", marker_symbol=\"line-ew-open\"))\n",
    "if export_html: plot.write_html(os.path.join(output_dir, \"survey_ratings_all.html\"))\n",
    "if export_png: plot.write_image(os.path.join(output_dir, \"survey_ratings_all.png\"), scale=6)\n",
    "if export_svg: plot.write_image(os.path.join(output_dir, \"survey_ratings_all.svg\"))\n",
    "if export_pdf: plot.write_image(os.path.join(output_dir, \"survey_ratings_all.pdf\"))"
   ]
  },
  {
   "cell_type": "code",
   "execution_count": null,
   "metadata": {},
   "outputs": [],
   "source": [
    "surveyIDs_high_response = s_survey[s_survey[\"count\"] > 50].index\n",
    "surveyIDs_high_response"
   ]
  },
  {
   "cell_type": "code",
   "execution_count": null,
   "metadata": {},
   "outputs": [],
   "source": [
    "ti = []\n",
    "for ind in bikeability.index:\n",
    "    if ind in surveyIDs_high_response:\n",
    "        ti.append(ind)\n",
    "plot = (ratings_survey[surveyIDs_high_response].reindex(ti, axis=1)/100).boxplot(points=\"all\", title=\"Survey ratings (high participation rate)\" if show_title else None)\n",
    "plot.update_layout(\n",
    "    width=1200, height=600,\n",
    "    xaxis=dict(title=\"\"), yaxis=dict(title=\"\"), \n",
    "    margin=dict(t=55 if show_title else 15, l=80 if show_ba_lab else 10, r=30 if show_ba_lab else 10, b=110 if show_title else 100)\n",
    ")\n",
    "plot.update_traces(marker_color=\"#15459C\", line_width=1, marker_size=1.5)\n",
    "display(plot.add_scatter(name=\"bikeability\", y=bikeability[ti], x=ti, marker_size=25, line_color=\"#EB0F09\", showlegend=False, mode=\"markers\", marker_symbol=\"line-ew-open\"))\n",
    "if export_html: plot.write_html(os.path.join(output_dir, \"survey_ratings_highParticipation.html\"))\n",
    "if export_png: plot.write_image(os.path.join(output_dir, \"survey_ratings_highParticipation.png\"), scale=6)\n",
    "if export_svg: plot.write_image(os.path.join(output_dir, \"survey_ratings_highParticipation.svg\"))\n",
    "if export_pdf: plot.write_image(os.path.join(output_dir, \"survey_ratings_highParticipation.pdf\"))"
   ]
  },
  {
   "cell_type": "code",
   "execution_count": null,
   "metadata": {},
   "outputs": [],
   "source": [
    "# correlation (using median of ratings)\n",
    "survey_median = ratings_survey.agg(\"median\", 0)\n",
    "s_corr_p = bikeability.corr(survey_median/100) # pearson\n",
    "s_corr_s = bikeability.corr(survey_median/100, method=\"spearman\") # spearman \n",
    "s_corr_k = bikeability.corr(survey_median/100, method=\"kendall\") # kendall \n",
    "print(f\"Correlations (full survey):\\n{s_corr_p:.3f} Pearson\\n{s_corr_s:.3f} Spearman\\n{s_corr_k:.3f} Kendall\\n\")\n",
    "\n",
    "survey_hr_median = ratings_survey[surveyIDs_high_response].agg(\"median\", 0)\n",
    "s_hr_corr_p = bikeability.corr(survey_hr_median/100) # Pearson's r\n",
    "s_hr_corr_s = bikeability.corr(survey_hr_median/100, method=\"spearman\") # Spearman's rho\n",
    "s_hr_corr_k = bikeability.corr(survey_hr_median/100, method=\"kendall\") # Kendall's tau\n",
    "print(f\"Correlations (survey - high response rate):\\n{s_hr_corr_p:.3f} Pearson\\n{s_hr_corr_s:.3f} Spearman\\n{s_hr_corr_k:.3f} Kendall\\n\")\n",
    "\n",
    "conf_median = ratings_conf_full.agg(\"median\", 0)\n",
    "conf_corr_p = bikeability.corr(conf_median) # Pearson's r\n",
    "conf_corr_s = bikeability.corr(conf_median, method=\"spearman\") # Spearman's rho\n",
    "conf_corr_k = bikeability.corr(conf_median, method=\"kendall\") # Kendall's tau\n",
    "print(f\"Correlations (full conference):\\n{conf_corr_p:.3f} Pearson\\n{conf_corr_s:.3f} Spearman\\n{conf_corr_k:.3f} Kendall\")"
   ]
  },
  {
   "cell_type": "code",
   "execution_count": null,
   "metadata": {},
   "outputs": [],
   "source": [
    "import scipy.stats\n",
    "tmp_comb = pd.DataFrame({\"a\":bikeability, \"b\":(survey_median/100)})\n",
    "cor_result = scipy.stats.linregress(tmp_comb.b, tmp_comb.a)\n",
    "cor_result"
   ]
  },
  {
   "cell_type": "code",
   "execution_count": null,
   "metadata": {},
   "outputs": [],
   "source": [
    "plot = px.scatter(sdf_survey_full, x=\"50%\", y=\"bikeability\", labels={\"50%\":\"median image-based rating\",\n",
    "                                                                     \"bikeability\": \"modelled bikeability\"})\n",
    "plot.update_layout(\n",
    "    margin=dict(t=55 if show_title else 15, l=80 if show_ba_lab else 10, r=30 if show_ba_lab else 10, b=60 if show_title else 55)\n",
    ")\n",
    "plot.update_traces(\n",
    "        marker_color=\"#15459C\", line_width=0, marker_size=5\n",
    "    )\n",
    "plot.add_trace(go.Line(x=[0,1], y=[0,1], mode=\"lines\", name=\"optimum\", line=dict(color=\"#888888\", width=1, dash=\"dot\")))\n",
    "plot.add_trace(go.Line(x=[0,1], y=[cor_result.intercept,cor_result.intercept+cor_result.slope], mode=\"lines\", name=\"best fit\", line=dict(color=\"#069283\", width=1)))\n",
    "plot.show()\n",
    "if export_html: plot.write_html(os.path.join(output_dir, \"survey_ratings_all_median_scatter.html\"))\n",
    "if export_png: plot.write_image(os.path.join(output_dir, \"survey_ratings_all_median_scatter.png\"), scale=6)\n",
    "if export_svg: plot.write_image(os.path.join(output_dir, \"survey_ratings_all_median_scatter.svg\"))\n",
    "if export_pdf: plot.write_image(os.path.join(output_dir, \"survey_ratings_all_median_scatter.pdf\"))"
   ]
  },
  {
   "cell_type": "code",
   "execution_count": null,
   "metadata": {},
   "outputs": [],
   "source": [
    "sdf_survey_full[\"residuals\"] = sdf_survey_full.bikeability - (sdf_survey_full[\"50%\"] * cor_result.slope + cor_result.intercept)\n",
    "# residual plot\n",
    "plot = px.scatter(sdf_survey_full, x=\"50%\", y=\"residuals\", labels={\"50%\":\"median image-based rating\",\n",
    "                                                                     \"residuals\": \"residuals (linear best fit)\"})\n",
    "plot.update_layout(\n",
    "    margin=dict(t=55 if show_title else 15, l=80 if show_ba_lab else 10, r=30 if show_ba_lab else 10, b=60 if show_title else 55)\n",
    ")\n",
    "plot.update_traces(\n",
    "    marker_color=\"#15459C\", line_width=0, marker_size=5\n",
    ")\n",
    "plot.show()\n",
    "if export_html: plot.write_html(os.path.join(output_dir, \"survey_ratings_all_median_residuals.html\"))\n",
    "if export_png: plot.write_image(os.path.join(output_dir, \"survey_ratings_all_median_residuals.png\"), scale=6)\n",
    "if export_svg: plot.write_image(os.path.join(output_dir, \"survey_ratings_all_median_residuals.svg\"))\n",
    "if export_pdf: plot.write_image(os.path.join(output_dir, \"survey_ratings_all_median_residuals.pdf\"))"
   ]
  },
  {
   "cell_type": "code",
   "execution_count": null,
   "metadata": {},
   "outputs": [],
   "source": [
    "# plot absolute differences to median\n",
    "plot = px.scatter(sdf_survey_full, x=\"50%\", y=\"delta_median\", labels={\"50%\":\"median image-based rating\",\n",
    "                                                                     \"residuals\": \"residuals (linear best fit)\"})\n",
    "plot.update_layout(\n",
    "    margin=dict(t=55 if show_title else 15, l=80 if show_ba_lab else 10, r=30 if show_ba_lab else 10, b=60 if show_title else 55)\n",
    ")\n",
    "plot.update_traces(\n",
    "    marker_color=\"#15459C\", line_width=0, marker_size=5\n",
    ")\n",
    "plot.show()\n",
    "if export_html: plot.write_html(os.path.join(output_dir, \"survey_ratings_all_delta_median.html\"))\n",
    "if export_png: plot.write_image(os.path.join(output_dir, \"survey_ratings_all_delta_median.png\"), scale=6)\n",
    "if export_svg: plot.write_image(os.path.join(output_dir, \"survey_ratings_all_delta_median.svg\"))\n",
    "if export_pdf: plot.write_image(os.path.join(output_dir, \"survey_ratings_all_delta_median.pdf\"))"
   ]
  },
  {
   "cell_type": "code",
   "execution_count": null,
   "metadata": {},
   "outputs": [],
   "source": [
    "# correlation (using mean instead of median)\n",
    "survey_mean = ratings_survey.agg(\"mean\", 0)\n",
    "s_corr2_p = bikeability.corr(survey_mean) # pearson\n",
    "s_corr2_s = bikeability.corr(survey_mean, method=\"spearman\") # spearman \n",
    "s_corr2_k = bikeability.corr(survey_mean, method=\"kendall\") # kendall \n",
    "print(f\"Correlations (full survey) - using mean:\\n{s_corr_p:.3f} Pearson\\n{s_corr_s:.3f} Spearman\\n{s_corr_k:.3f} Kendall\\n\")\n",
    "\n",
    "survey_hr_mean = ratings_survey[surveyIDs_high_response].agg(\"mean\", 0)\n",
    "s_hr_corr2_p = bikeability.corr(survey_hr_mean) # Pearson's r\n",
    "s_hr_corr2_s = bikeability.corr(survey_hr_mean, method=\"spearman\") # Spearman's rho\n",
    "s_hr_corr2_k = bikeability.corr(survey_hr_mean, method=\"kendall\") # Kendall's tau\n",
    "print(f\"Correlations (survey - high response rate) - using mean:\\n{s_hr_corr_p:.3f} Pearson\\n{s_hr_corr_s:.3f} Spearman\\n{s_hr_corr_k:.3f} Kendall\\n\")\n",
    "\n",
    "conf_mean = ratings_conf_full.agg(\"mean\", 0)\n",
    "conf_corr2_p = bikeability.corr(conf_mean) # Pearson's r\n",
    "conf_corr2_s = bikeability.corr(conf_mean, method=\"spearman\") # Spearman's rho\n",
    "conf_corr2_k = bikeability.corr(conf_mean, method=\"kendall\") # Kendall's tau\n",
    "print(f\"Correlations (full conference) - using mean:\\n{conf_corr2_p:.3f} Pearson\\n{conf_corr2_s:.3f} Spearman\\n{conf_corr2_k:.3f} Kendall\")"
   ]
  },
  {
   "cell_type": "code",
   "execution_count": null,
   "metadata": {},
   "outputs": [],
   "source": [
    "# detailed plots: boxplot with modelled bikeability for each image\n",
    "for id in ratings_survey.columns if detail_plot_all else ti:\n",
    "    plot = ratings_survey[id].plot.box(title=f\"Survey rating of {id}\", orientation='h', points=\"all\", height=250, range_x=[-1,101])\n",
    "    plot.update_layout(\n",
    "        xaxis=dict(title=\"bikeability\"),\n",
    "        yaxis=dict(\n",
    "            visible=False\n",
    "        ),\n",
    "        margin=dict(t=90,l=200,r=30,b=30),\n",
    "        width=850,\n",
    "        height=250\n",
    "    )\n",
    "    plot.update_traces(marker_color=\"#15459C\", line_width=1, marker_size=3)\n",
    "    plot.add_layout_image(\n",
    "        dict(\n",
    "            source=pil.Image.open(os.path.join(image_dir, f\"{id}.jpg\")),\n",
    "            y=id,\n",
    "            xref=\"paper\",\n",
    "            yref=\"y\",\n",
    "            x=-0.01,\n",
    "            sizex=1,\n",
    "            sizey=1,\n",
    "            sizing=\"contain\", # fill / stretch / contain\n",
    "            xanchor=\"right\",\n",
    "            yanchor=\"middle\"\n",
    "        )\n",
    "    )\n",
    "    display(plot.add_scatter(name=\"bikeability\", x=[bikeability.loc[id]*100], y=[id], marker_size=45, line_width=12, line_color=\"#EB0F09\", showlegend=False, mode=\"markers\", marker_symbol=\"line-ns-open\"))\n",
    "    if export_png: plot.write_image(os.path.join(output_dir, f\"survey_rating_detail_{id}.png\"), scale=3)\n",
    "    if export_pdf: plot.write_image(os.path.join(output_dir, f\"survey_rating_detail_{id}.pdf\"), scale=3)"
   ]
  },
  {
   "cell_type": "markdown",
   "metadata": {},
   "source": [
    "## Qualitative part of survey"
   ]
  },
  {
   "cell_type": "code",
   "execution_count": null,
   "metadata": {},
   "outputs": [],
   "source": [
    "survey[\"positive_aspects\"].describe()"
   ]
  },
  {
   "cell_type": "code",
   "execution_count": null,
   "metadata": {},
   "outputs": [],
   "source": [
    "survey[survey[\"positive_aspects\"].isna() == False]['positive_aspects'].values"
   ]
  },
  {
   "cell_type": "code",
   "execution_count": null,
   "metadata": {},
   "outputs": [],
   "source": [
    "survey[\"negative_aspects\"].describe()"
   ]
  },
  {
   "cell_type": "code",
   "execution_count": null,
   "metadata": {},
   "outputs": [],
   "source": [
    "survey[survey[\"negative_aspects\"].isna() == False]['negative_aspects'].values"
   ]
  },
  {
   "cell_type": "code",
   "execution_count": null,
   "metadata": {},
   "outputs": [],
   "source": [
    "survey[\"issues_image\"].describe()"
   ]
  },
  {
   "cell_type": "code",
   "execution_count": null,
   "metadata": {},
   "outputs": [],
   "source": [
    "survey[survey[\"issues_image\"].isna() == False]['issues_image'].values"
   ]
  },
  {
   "cell_type": "code",
   "execution_count": null,
   "metadata": {},
   "outputs": [],
   "source": [
    "survey[\"other_comments\"].describe()"
   ]
  },
  {
   "cell_type": "code",
   "execution_count": null,
   "metadata": {},
   "outputs": [],
   "source": [
    "survey[survey[\"other_comments\"].isna() == False]['other_comments'].values"
   ]
  },
  {
   "cell_type": "code",
   "execution_count": null,
   "metadata": {},
   "outputs": [],
   "source": [
    "f_combined = survey[(survey[\"positive_aspects\"].isna() == False) | (survey[\"negative_aspects\"].isna() == False) | \n",
    "       (survey[\"issues_image\"].isna() == False) | (survey[\"other_comments\"].isna() == False)][\n",
    "              ['id', 'positive_aspects', 'negative_aspects', 'issues_image', 'other_comments']\n",
    "              ]\n",
    "f_combined.to_csv(os.path.join(output_dir, \"feedback_combined.csv\"))"
   ]
  }
 ],
 "metadata": {
  "kernelspec": {
   "display_name": "da",
   "language": "python",
   "name": "python3"
  },
  "language_info": {
   "codemirror_mode": {
    "name": "ipython",
    "version": 3
   },
   "file_extension": ".py",
   "mimetype": "text/x-python",
   "name": "python",
   "nbconvert_exporter": "python",
   "pygments_lexer": "ipython3",
   "version": "3.10.10"
  }
 },
 "nbformat": 4,
 "nbformat_minor": 2
}
