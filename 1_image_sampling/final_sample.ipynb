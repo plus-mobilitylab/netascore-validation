{
 "cells": [
  {
   "cell_type": "code",
   "execution_count": 18,
   "metadata": {},
   "outputs": [
    {
     "name": "stdout",
     "output_type": "stream",
     "text": [
      "class 1\n",
      "found 12 files.\n",
      "['salzburg1i25.jpg', 'wuppertal1i11.jpg', 'wuppertal1i7.jpg', 'salzburg1i23.jpg', 'wuppertal1i14.jpg', 'salzburg1i9.jpg', 'wuppertal1i19.jpg', 'wuppertal1i18.jpg', 'wuppertal1i22.jpg', 'salzburg1i17.jpg', 'wuppertal1i9.jpg', 'wuppertal1i8.jpg']\n",
      "['salzburg1i9.jpg', 'wuppertal1i8.jpg', 'salzburg1i25.jpg', 'wuppertal1i11.jpg', 'wuppertal1i18.jpg', 'wuppertal1i19.jpg', 'salzburg1i23.jpg', 'wuppertal1i9.jpg', 'salzburg1i17.jpg', 'wuppertal1i22.jpg']\n",
      "class 2\n",
      "found 19 files.\n",
      "['wuppertal2i4.jpg', 'wuppertal2i23.jpg', 'wuppertal2i21.jpg', 'wuppertal2i20.jpg', 'salzburg2i11.jpg', 'wuppertal2i18.jpg', 'wuppertal2i25.jpg', 'wuppertal2i3.jpg', 'salzburg2i22.jpg', 'wuppertal2i17.jpg', 'wuppertal2i16.jpg', 'salzburg2i23.jpg', 'salzburg2i6.jpg', 'salzburg2i20.jpg', 'salzburg2i2.jpg', 'wuppertal2i8.jpg', 'wuppertal2i12.jpg', 'wuppertal2i13.jpg', 'wuppertal2i9.jpg']\n",
      "['salzburg2i20.jpg', 'wuppertal2i8.jpg', 'wuppertal2i23.jpg', 'salzburg2i11.jpg', 'wuppertal2i18.jpg', 'wuppertal2i4.jpg', 'wuppertal2i3.jpg', 'salzburg2i2.jpg', 'wuppertal2i13.jpg', 'salzburg2i23.jpg']\n",
      "class 3\n",
      "found 26 files.\n",
      "['wuppertal3i15.jpg', 'salzburg3i20.jpg', 'wuppertal3i6.jpg', 'salzburg3i22.jpg', 'wuppertal3i5.jpg', 'wuppertal3i17.jpg', 'salzburg3i9.jpg', 'salzburg3i8.jpg', 'wuppertal3i12.jpg', 'wuppertal3i2.jpg', 'salzburg3i18.jpg', 'wuppertal3i11.jpg', 'wuppertal3i20.jpg', 'salzburg3i15.jpg', 'salzburg3i7.jpg', 'salzburg3i16.jpg', 'salzburg3i5.jpg', 'salzburg3i13.jpg', 'wuppertal3i8.jpg', 'salzburg3i1.jpg', 'salzburg3i12.jpg', 'wuppertal3i25.jpg', 'wuppertal3i19.jpg', 'salzburg3i3.jpg', 'salzburg3i2.jpg', 'salzburg3i11.jpg']\n",
      "['salzburg3i1.jpg', 'salzburg3i20.jpg', 'wuppertal3i19.jpg', 'wuppertal3i5.jpg', 'wuppertal3i25.jpg', 'wuppertal3i8.jpg', 'wuppertal3i17.jpg', 'salzburg3i3.jpg', 'wuppertal3i20.jpg', 'wuppertal3i11.jpg']\n",
      "class 4\n",
      "found 27 files.\n",
      "['salzburg4i15.jpg', 'salzburg4i14.jpg', 'wuppertal4i21.jpg', 'salzburg4i16.jpg', 'wuppertal4i22.jpg', 'salzburg4i13.jpg', 'salzburg4i12.jpg', 'wuppertal4i25.jpg', 'salzburg4i11.jpg', 'wuppertal4i18.jpg', 'wuppertal4i2.jpg', 'salzburg4i8.jpg', 'wuppertal4i5.jpg', 'wuppertal4i6.jpg', 'salzburg4i3.jpg', 'salzburg4i2.jpg', 'wuppertal4i8.jpg', 'salzburg4i1.jpg', 'salzburg4i5.jpg', 'salzburg4i4.jpg', 'salzburg4i6.jpg', 'salzburg4i7.jpg', 'salzburg4i21.jpg', 'wuppertal4i10.jpg', 'salzburg4i19.jpg', 'salzburg4i24.jpg', 'wuppertal4i11.jpg']\n",
      "['salzburg4i24.jpg', 'salzburg4i12.jpg', 'salzburg4i1.jpg', 'salzburg4i6.jpg', 'salzburg4i11.jpg', 'wuppertal4i2.jpg', 'wuppertal4i25.jpg', 'salzburg4i13.jpg', 'wuppertal4i6.jpg', 'salzburg4i19.jpg']\n",
      "class 5\n",
      "found 23 files.\n",
      "['salzburg5i9.jpg', 'wuppertal5i1.jpg', 'salzburg5i8.jpg', 'wuppertal5i3.jpg', 'wuppertal5i7.jpg', 'wuppertal5i6.jpg', 'wuppertal5i16.jpg', 'salzburg5i21.jpg', 'wuppertal5i15.jpg', 'salzburg5i20.jpg', 'salzburg5i24.jpg', 'wuppertal5i11.jpg', 'salzburg5i19.jpg', 'salzburg5i25.jpg', 'wuppertal5i13.jpg', 'salzburg5i14.jpg', 'wuppertal5i21.jpg', 'salzburg5i15.jpg', 'wuppertal5i24.jpg', 'salzburg5i1.jpg', 'salzburg5i2.jpg', 'salzburg5i6.jpg', 'salzburg5i7.jpg']\n",
      "['wuppertal5i24.jpg', 'salzburg5i1.jpg', 'salzburg5i24.jpg', 'salzburg5i20.jpg', 'wuppertal5i6.jpg', 'salzburg5i21.jpg', 'wuppertal5i3.jpg', 'salzburg5i14.jpg', 'salzburg5i15.jpg', 'salzburg5i8.jpg']\n",
      "[['wuppertal1i22.jpg', 'salzburg1i17.jpg', 'salzburg2i23.jpg', 'wuppertal2i13.jpg', 'wuppertal3i11.jpg', 'wuppertal3i20.jpg', 'salzburg4i19.jpg', 'wuppertal4i6.jpg', 'salzburg5i8.jpg', 'salzburg5i15.jpg'], ['wuppertal1i9.jpg', 'salzburg1i23.jpg', 'salzburg2i2.jpg', 'wuppertal2i3.jpg', 'salzburg3i3.jpg', 'wuppertal3i17.jpg', 'salzburg4i13.jpg', 'wuppertal4i25.jpg', 'salzburg5i14.jpg', 'wuppertal5i3.jpg'], ['wuppertal1i19.jpg', 'wuppertal1i18.jpg', 'wuppertal2i4.jpg', 'wuppertal2i18.jpg', 'wuppertal3i8.jpg', 'wuppertal3i25.jpg', 'wuppertal4i2.jpg', 'salzburg4i11.jpg', 'salzburg5i21.jpg', 'wuppertal5i6.jpg'], ['wuppertal1i11.jpg', 'salzburg1i25.jpg', 'salzburg2i11.jpg', 'wuppertal2i23.jpg', 'wuppertal3i5.jpg', 'wuppertal3i19.jpg', 'salzburg4i6.jpg', 'salzburg4i1.jpg', 'salzburg5i20.jpg', 'salzburg5i24.jpg'], ['wuppertal1i8.jpg', 'salzburg1i9.jpg', 'wuppertal2i8.jpg', 'salzburg2i20.jpg', 'salzburg3i20.jpg', 'salzburg3i1.jpg', 'salzburg4i12.jpg', 'salzburg4i24.jpg', 'salzburg5i1.jpg', 'wuppertal5i24.jpg']]\n"
     ]
    }
   ],
   "source": [
    "import os\n",
    "import random\n",
    " \n",
    "# The following structure is expected: <base_path>/c<id>/<images> (where <id> are integers from 1 to 5 representing the bikeability class of images)\n",
    "# so all images for bikeability class 1 are located in <base_path>/c1/ and all images for class 2 are within <base_path>/c2/ etc.\n",
    "base_path = os.path.join(\"..\", \"..\", \"..\", \"5_images_full_sample\")\n",
    "pages = 5\n",
    "classes = 5\n",
    "\n",
    "chosen = []\n",
    "choiceset = []\n",
    "\n",
    "for cls in range(1,classes+1):\n",
    "    print(\"class\" , cls)\n",
    "    files = os.listdir(os.path.join(base_path, \"/c\" + str(cls)))\n",
    "    print(\"found\", len(files), \"files.\")\n",
    "    print(files)\n",
    "    # random choice for 5 pages (2 images per class each)\n",
    "    choice = random.sample(files, k=pages*2)\n",
    "    print(choice)\n",
    "    for page in range(pages):\n",
    "        if len(choiceset) < page+1:\n",
    "            choiceset.append([])\n",
    "        choiceset[page].append(choice.pop())\n",
    "        choiceset[page].append(choice.pop())\n",
    "print(choiceset)"
   ]
  },
  {
   "cell_type": "code",
   "execution_count": 19,
   "metadata": {},
   "outputs": [
    {
     "name": "stdout",
     "output_type": "stream",
     "text": [
      "['wuppertal1i22.jpg', 'salzburg1i17.jpg', 'salzburg2i23.jpg', 'wuppertal2i13.jpg', 'wuppertal3i11.jpg', 'wuppertal3i20.jpg', 'salzburg4i19.jpg', 'wuppertal4i6.jpg', 'salzburg5i8.jpg', 'salzburg5i15.jpg']\n",
      "['wuppertal1i9.jpg', 'salzburg1i23.jpg', 'salzburg2i2.jpg', 'wuppertal2i3.jpg', 'salzburg3i3.jpg', 'wuppertal3i17.jpg', 'salzburg4i13.jpg', 'wuppertal4i25.jpg', 'salzburg5i14.jpg', 'wuppertal5i3.jpg']\n",
      "['wuppertal1i19.jpg', 'wuppertal1i18.jpg', 'wuppertal2i4.jpg', 'wuppertal2i18.jpg', 'wuppertal3i8.jpg', 'wuppertal3i25.jpg', 'wuppertal4i2.jpg', 'salzburg4i11.jpg', 'salzburg5i21.jpg', 'wuppertal5i6.jpg']\n",
      "['wuppertal1i11.jpg', 'salzburg1i25.jpg', 'salzburg2i11.jpg', 'wuppertal2i23.jpg', 'wuppertal3i5.jpg', 'wuppertal3i19.jpg', 'salzburg4i6.jpg', 'salzburg4i1.jpg', 'salzburg5i20.jpg', 'salzburg5i24.jpg']\n",
      "['wuppertal1i8.jpg', 'salzburg1i9.jpg', 'wuppertal2i8.jpg', 'salzburg2i20.jpg', 'salzburg3i20.jpg', 'salzburg3i1.jpg', 'salzburg4i12.jpg', 'salzburg4i24.jpg', 'salzburg5i1.jpg', 'wuppertal5i24.jpg']\n"
     ]
    }
   ],
   "source": [
    "# print images per survey page\n",
    "for page in choiceset:\n",
    "    print(page)"
   ]
  }
 ],
 "metadata": {
  "kernelspec": {
   "display_name": "da",
   "language": "python",
   "name": "python3"
  },
  "language_info": {
   "codemirror_mode": {
    "name": "ipython",
    "version": 3
   },
   "file_extension": ".py",
   "mimetype": "text/x-python",
   "name": "python",
   "nbconvert_exporter": "python",
   "pygments_lexer": "ipython3",
   "version": "3.10.10"
  },
  "orig_nbformat": 4
 },
 "nbformat": 4,
 "nbformat_minor": 2
}
